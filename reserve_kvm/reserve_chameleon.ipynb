{
 "cells": [
  {
   "cell_type": "markdown",
   "metadata": {},
   "source": [
    "## Reserve and configure resources on KVM"
   ],
   "id": "b19b57c4-e88e-4f43-ab00-d1e0460514b6"
  },
  {
   "cell_type": "markdown",
   "metadata": {},
   "source": [
    "Before you run this experiment, you will:\n",
    "\n",
    "-   define the specific configuration of resources you need.\n",
    "-   “instantiate” an experiment with your reserved resources.\n",
    "-   wait for your resources to be configured.\n",
    "-   log in to resources to carry out the experiment.\n",
    "\n",
    "This exercise will guide you through those steps."
   ],
   "id": "e077758c-491b-4c35-a583-9745661a890e"
  },
  {
   "cell_type": "markdown",
   "metadata": {},
   "source": [
    "### Configure environment"
   ],
   "id": "8a543a26-96dc-4c1c-a123-cfa01f573fd7"
  },
  {
   "cell_type": "code",
   "execution_count": null,
   "metadata": {},
   "outputs": [],
   "source": [
    "import openstack, chi, chi.ssh, chi.network, chi.server, os"
   ],
   "id": "19fc7d05-aeb9-42d4-9f52-2df80dbbb80f"
  },
  {
   "cell_type": "markdown",
   "metadata": {},
   "source": [
    "In this section, we configure the Chameleon Python client.\n",
    "\n",
    "For this experiment, we’re going to use the KVM@TACC site, which we indicate below.\n",
    "\n",
    "We also need to specify the name of the Chameleon “project” that this experiment is part of. The project name will have the format “CHI-XXXXXX”, where the last part is a 6-digit number, and you can find it on your [user dashboard](https://chameleoncloud.org/user/dashboard/)."
   ],
   "id": "50404ca8-c5bf-4d86-9c82-104835a5eaa7"
  },
  {
   "cell_type": "markdown",
   "metadata": {},
   "source": [
    "In the cell below, replace the project ID with your own project ID, then run the cell."
   ],
   "id": "cc63565e-8166-4a7d-bd0a-5c161656279e"
  },
  {
   "cell_type": "code",
   "execution_count": null,
   "metadata": {},
   "outputs": [],
   "source": [
    "chi.use_site(\"KVM@TACC\")\n",
    "PROJECT_NAME = \"CHI-XXXXXX\"\n",
    "chi.set(\"project_name\", PROJECT_NAME)\n",
    "\n",
    "# configure openstacksdk for actions unsupported by python-chi\n",
    "os_conn = chi.clients.connection()\n"
   ],
   "id": "ce5dfb74-4147-4d97-be69-d2c7bb02a928"
  },
  {
   "cell_type": "markdown",
   "metadata": {},
   "source": [
    "### Define configuration for this experiment (3 VMs)"
   ],
   "id": "92bd9962-53f2-4901-b530-e9195f433ecd"
  },
  {
   "cell_type": "markdown",
   "metadata": {},
   "source": [
    "For this specific experiment, we will need three virtual machines connected to a common network. Each of the virtual machines will be of the `m1.large` type, with 4 VCPUs, 8 GB memory, 40 GB disk space."
   ],
   "id": "1d14226d-b528-4c99-a890-0d50e249ec47"
  },
  {
   "cell_type": "code",
   "execution_count": null,
   "metadata": {},
   "outputs": [],
   "source": [
    "username = os.getenv('USER')\n",
    "\n",
    "node_conf = [\n",
    " {'name': \"node-0\",  'flavor': 'm1.large', 'image': 'CC-Ubuntu20.04', 'packages': [\"virtualenv\"], 'bastion': True}, \n",
    " {'name': \"node-1\",  'flavor': 'm1.large', 'image': 'CC-Ubuntu20.04', 'packages': [], 'bastion': False}, \n",
    " {'name': \"node-2\",  'flavor': 'm1.large', 'image': 'CC-Ubuntu20.04', 'packages': [], 'bastion': False} \n",
    "]\n",
    "net_conf = [\n",
    " {\"name\": \"net0\", \"subnet\": \"192.168.1.0/24\", \"nodes\": [{\"name\": \"node-0\",   \"addr\": \"192.168.1.10\"}, {\"name\": \"node-1\", \"addr\": \"192.168.1.11\"}, {\"name\": \"node-2\", \"addr\": \"192.168.1.12\"}]},\n",
    "]\n",
    "route_conf = []"
   ],
   "id": "43afcc65-9bab-4aa8-a7a7-add7fb5cedbf"
  },
  {
   "cell_type": "markdown",
   "metadata": {},
   "source": [
    "### Configure resources\n",
    "\n",
    "Now, we will prepare the VMs and network links that our experiment requires."
   ],
   "id": "68476291-ad48-4934-9d64-21cf08d25f17"
  },
  {
   "cell_type": "markdown",
   "metadata": {},
   "source": [
    "First, we will prepare a “public” network that we will use for SSH access to our VMs -"
   ],
   "id": "fc6b6cb3-13a0-4745-9e60-01259765bd76"
  },
  {
   "cell_type": "code",
   "execution_count": null,
   "metadata": {},
   "outputs": [],
   "source": [
    "public_net = os_conn.network.create_network(name=\"public_net_\" + username)\n",
    "public_net_id = public_net.get(\"id\")\n",
    "public_subnet = os_conn.network.create_subnet(\n",
    "    name=\"public_subnet_\" + username,\n",
    "    network_id=public_net.get(\"id\"),\n",
    "    ip_version='4',\n",
    "    cidr=\"192.168.10.0/24\",\n",
    "    gateway_ip=\"192.168.10.1\",\n",
    "    is_dhcp_enabled = True\n",
    ")"
   ],
   "id": "17fb99b3-8399-499e-8ab7-5b043530f54d"
  },
  {
   "cell_type": "markdown",
   "metadata": {},
   "source": [
    "Next, we will prepare the “experiment” networks -"
   ],
   "id": "e75b963c-4e4a-4b05-8e47-330d229527ef"
  },
  {
   "cell_type": "code",
   "execution_count": null,
   "metadata": {},
   "outputs": [],
   "source": [
    "nets = []\n",
    "net_ids = []\n",
    "subnets = []\n",
    "for n in net_conf:\n",
    "    exp_net = os_conn.network.create_network(name=\"exp_\" + n['name']  + '_' + username)\n",
    "    exp_net_id = exp_net.get(\"id\")\n",
    "    os_conn.network.update_network(exp_net, is_port_security_enabled=False)\n",
    "    exp_subnet = os_conn.network.create_subnet(\n",
    "        name=\"exp_subnet_\" + n['name']  + '_' + username,\n",
    "        network_id=exp_net.get(\"id\"),\n",
    "        ip_version='4',\n",
    "        cidr=n['subnet'],\n",
    "        gateway_ip=None,\n",
    "        is_dhcp_enabled = True\n",
    "    )\n",
    "    nets.append(exp_net)\n",
    "    net_ids.append(exp_net_id)\n",
    "    subnets.append(exp_subnet)"
   ],
   "id": "39c29fae-b553-4f96-838f-2def59ce5f04"
  },
  {
   "cell_type": "markdown",
   "metadata": {},
   "source": [
    "Now we create the VMs -"
   ],
   "id": "6de0f361-9bea-46ab-b4df-e800870b4f34"
  },
  {
   "cell_type": "code",
   "execution_count": null,
   "metadata": {},
   "outputs": [],
   "source": [
    "servers = []\n",
    "server_ids = []\n",
    "for i, n in enumerate(node_conf, start=10):\n",
    "    image_uuid = os_conn.image.find_image(n['image']).id\n",
    "    flavor_uuid = os_conn.compute.find_flavor(n['flavor']).id\n",
    "    # find out details of exp interface(s)\n",
    "    nics = [{'net-id': chi.network.get_network_id( \"exp_\" + net['name']  + '_' + username ), 'v4-fixed-ip': node['addr']} for net in net_conf for node in net['nodes'] if node['name']==n['name']]\n",
    "    # also include a public network interface\n",
    "    nics.insert(0, {\"net-id\": public_net_id, \"v4-fixed-ip\":\"192.168.10.\" + str(i)})\n",
    "    server = chi.server.create_server(\n",
    "        server_name=n['name'] + \"_\" + username,\n",
    "        image_id=image_uuid,\n",
    "        flavor_id=flavor_uuid,\n",
    "        nics=nics\n",
    "    )\n",
    "    servers.append(server)\n",
    "    server_ids.append(chi.server.get_server(n['name'] + \"_\" + username).id)"
   ],
   "id": "842106d9-4507-4201-aa2d-98be4e2b663d"
  },
  {
   "cell_type": "markdown",
   "metadata": {},
   "source": [
    "We wait for all servers to come up before we proceed -"
   ],
   "id": "2e3259bd-3743-48b0-a81d-967dcb68a8b3"
  },
  {
   "cell_type": "code",
   "execution_count": null,
   "metadata": {},
   "outputs": [],
   "source": [
    "for server_id in server_ids:\n",
    "    chi.server.wait_for_active(server_id)"
   ],
   "id": "ecaca9cc-4919-4147-936f-1c412dae45ee"
  },
  {
   "cell_type": "markdown",
   "metadata": {},
   "source": [
    "Next, we will set up SSH access to the VMs.\n",
    "\n",
    "First, we will make sure the “public” network is connected to the Internet. Then, we will configure it to permit SSH access on port 22 for each port connected to this network."
   ],
   "id": "7ee289cb-7415-4273-a003-0431f0abb0e5"
  },
  {
   "cell_type": "code",
   "execution_count": null,
   "metadata": {},
   "outputs": [],
   "source": [
    "# connect them to the Internet on the \"public\" network (e.g. for software installation)\n",
    "router = chi.network.create_router('inet_router_' + username, gw_network_name='public')\n",
    "chi.network.add_subnet_to_router(router.get(\"id\"), public_subnet.get(\"id\"))"
   ],
   "id": "03009cfc-1c7f-4690-b404-21e4e208b1bd"
  },
  {
   "cell_type": "code",
   "execution_count": null,
   "metadata": {},
   "outputs": [],
   "source": [
    "# prepare SSH access on the servers that serve in \"bastion\" role\n",
    "# WARNING: this relies on undocumented behavior of associate_floating_ip \n",
    "# that it associates the IP with the first port on the server\n",
    "server_ips = []\n",
    "for i, n in enumerate(node_conf):\n",
    "    if 'bastion' in n and n['bastion']:\n",
    "        ip = chi.server.associate_floating_ip(server_ids[i])\n",
    "        server_ips.append(ip)"
   ],
   "id": "53302ad3-eb04-43f8-8f0d-09bd160acb4a"
  },
  {
   "cell_type": "code",
   "execution_count": null,
   "metadata": {},
   "outputs": [],
   "source": [
    "if not os_conn.get_security_group(\"Allow SSH\"):\n",
    "    os_conn.create_security_group(\"Allow SSH\", \"Enable SSH traffic on TCP port 22\")\n",
    "    os_conn.create_security_group_rule(\"Allow SSH\", port_range_min=22, port_range_max=22, protocol='tcp', remote_ip_prefix='0.0.0.0/0')\n",
    "\n",
    "security_group_id = os_conn.get_security_group(\"Allow SSH\").id\n",
    "for port in chi.network.list_ports(): \n",
    "    if port['port_security_enabled'] and port['network_id']==public_net.get(\"id\"):\n",
    "        os_conn.network.update_port(port['id'], security_groups=[security_group_id])"
   ],
   "id": "db025ed8-5ce6-4c59-acfd-adbf0823a113"
  },
  {
   "cell_type": "code",
   "execution_count": null,
   "metadata": {},
   "outputs": [],
   "source": [
    "for ip in server_ips:\n",
    "    chi.server.wait_for_tcp(ip, port=22)"
   ],
   "id": "f44adf60-61be-4c61-a1e0-57c642193187"
  },
  {
   "cell_type": "markdown",
   "metadata": {},
   "source": [
    "The following cell may raise an error if some of your nodes are still getting set up! If that happens, wait a few minutes and try again. (And then a few minutes more, and try again, if it still raises an error.)"
   ],
   "id": "eabd7873-3872-4fb2-9f52-907e80885d85"
  },
  {
   "cell_type": "code",
   "execution_count": null,
   "metadata": {},
   "outputs": [],
   "source": [
    "primary_remote = chi.ssh.Remote(server_ips[0])\n",
    "physical_ips = [n['addr'] for n in net_conf[0]['nodes']]\n",
    "server_remotes = [chi.ssh.Remote(physical_ip, gateway=primary_remote) for physical_ip in physical_ips]"
   ],
   "id": "ae89bafa-ca27-4fc8-9fb3-1ca46583c454"
  },
  {
   "cell_type": "markdown",
   "metadata": {},
   "source": [
    "Finally, we need to configure our resources, including software package installation and network configuration."
   ],
   "id": "5b73e7f5-4a12-44c9-9dca-125054807c64"
  },
  {
   "cell_type": "code",
   "execution_count": null,
   "metadata": {},
   "outputs": [],
   "source": [
    "for i, n in enumerate(node_conf):\n",
    "    remote = server_remotes[i]\n",
    "    # enable forwarding\n",
    "    remote.run(f\"sudo sysctl -w net.ipv4.ip_forward=1\") \n",
    "    remote.run(f\"sudo ufw disable\") "
   ],
   "id": "cf547510-3729-4745-86e4-523118886288"
  },
  {
   "cell_type": "code",
   "execution_count": null,
   "metadata": {},
   "outputs": [],
   "source": [
    "for i, n in enumerate(node_conf):\n",
    "    # install packages\n",
    "    if len(n['packages']):\n",
    "            remote = server_remotes[i]\n",
    "            remote.run(f\"sudo apt update; sudo apt -y install \" + \" \".join(n['packages'])) "
   ],
   "id": "b3a34d28-dad3-4db1-83aa-64daa8cebe46"
  },
  {
   "cell_type": "code",
   "execution_count": null,
   "metadata": {},
   "outputs": [],
   "source": [
    "# prepare a \"hosts\" file that has names and addresses of every node\n",
    "hosts_txt = [ \"%s\\t%s\" % ( n['addr'], n['name'] ) for net in net_conf  for n in net['nodes'] if type(n) is dict and n['addr']]\n",
    "for remote in server_remotes:\n",
    "    for h in hosts_txt:\n",
    "        remote.run(\"echo %s | sudo tee -a /etc/hosts > /dev/null\" % h)"
   ],
   "id": "c3f0c7a7-1ca8-43ee-a206-fff9e0e116af"
  },
  {
   "cell_type": "code",
   "execution_count": null,
   "metadata": {},
   "outputs": [],
   "source": [
    "# we also need to enable incoming traffic on the HTTP port\n",
    "if not os_conn.get_security_group(\"Allow HTTP 32000\"):\n",
    "    os_conn.create_security_group(\"Allow HTTP 32000\", \"Enable HTTP traffic on TCP port 32000\")\n",
    "    os_conn.create_security_group_rule(\"Allow HTTP 32000\", port_range_min=32000, port_range_max=32000, protocol='tcp', remote_ip_prefix='0.0.0.0/0')\n",
    "\n",
    "# add existing security group\n",
    "security_group_id = os_conn.get_security_group(\"Allow HTTP 32000\").id\n",
    "for port in chi.network.list_ports(): \n",
    "    if port['port_security_enabled'] and port['network_id']==public_net.get(\"id\"):\n",
    "        pri_security_groups = port['security_groups']\n",
    "        pri_security_groups.append(security_group_id)\n",
    "        os_conn.network.update_port(port['id'], security_groups=pri_security_groups)"
   ],
   "id": "ebd5920b-cd49-4b6e-ba32-9a6c324d55a7"
  },
  {
   "cell_type": "markdown",
   "metadata": {},
   "source": [
    "### Draw the network topology"
   ],
   "id": "2125ceb5-5592-45b6-b3ac-d8b59dcd12ee"
  },
  {
   "cell_type": "markdown",
   "metadata": {},
   "source": [
    "The following cells will draw the network topology, for your reference."
   ],
   "id": "3c67d761-2cbd-4067-ba2e-6e1d67df0fb3"
  },
  {
   "cell_type": "code",
   "execution_count": null,
   "metadata": {},
   "outputs": [],
   "source": [
    "!pip install networkx"
   ],
   "id": "1548c766-e442-4764-be18-ab1253cf018f"
  },
  {
   "cell_type": "code",
   "execution_count": null,
   "metadata": {},
   "outputs": [],
   "source": [
    "nodes = [ (n['name'], {'color': 'pink'}) for n in net_conf ] + [(n['name'], {'color': 'lightblue'}) for n in node_conf ]\n",
    "edges = [(net['name'], node['name'], \n",
    "          {'label': node['addr'] + '/' + net['subnet'].split(\"/\")[1] }) if node['addr'] else (net['name'], node['name']) for net in net_conf for node in net['nodes'] ]"
   ],
   "id": "ce53eaca-de8a-457e-9d33-d69f6839dfa5"
  },
  {
   "cell_type": "code",
   "execution_count": null,
   "metadata": {},
   "outputs": [],
   "source": [
    "import networkx as nx\n",
    "import matplotlib.pyplot as plt\n",
    "plt.figure(figsize=(len(nodes),len(nodes)))\n",
    "G = nx.Graph()\n",
    "G.add_nodes_from(nodes)\n",
    "G.add_edges_from(edges)\n",
    "pos = nx.spring_layout(G)\n",
    "nx.draw(G, pos, node_shape='s',  \n",
    "        node_color=[n[1]['color'] for n in nodes], \n",
    "        node_size=[len(n[0])*400 for n in nodes],  \n",
    "        with_labels=True);\n",
    "nx.draw_networkx_edge_labels(G,pos,\n",
    "                             edge_labels=nx.get_edge_attributes(G,'label'),\n",
    "                             font_color='gray',  font_size=8, rotate=False);"
   ],
   "id": "ee6898d0-3308-4692-8e87-25b4a72cb3af"
  },
  {
   "cell_type": "markdown",
   "metadata": {},
   "source": [
    "### Use Kubespray to prepare a Kubernetes cluster"
   ],
   "id": "b82a416d-879e-438d-827e-5de88569000d"
  },
  {
   "cell_type": "markdown",
   "metadata": {},
   "source": [
    "Now that are resources are “up”, we will use Kubespray, a software utility for preparing and configuring a Kubernetes cluster, to set them up as a cluster."
   ],
   "id": "3bed451a-0b48-4db6-a1ab-52dd1e4e59ee"
  },
  {
   "cell_type": "code",
   "execution_count": null,
   "metadata": {},
   "outputs": [],
   "source": [
    "# install Python libraries required for Kubespray\n",
    "remote = chi.ssh.Remote(server_ips[0])\n",
    "remote.run(\"virtualenv -p python3 myenv\")\n",
    "remote.run(\"git clone --branch release-2.22 https://github.com/kubernetes-sigs/kubespray.git\")\n",
    "remote.run(\"source myenv/bin/activate; cd kubespray; pip3 install -r requirements.txt\")"
   ],
   "id": "b2bc5999-b353-47d1-a81e-4105da671bfa"
  },
  {
   "cell_type": "code",
   "execution_count": null,
   "metadata": {},
   "outputs": [],
   "source": [
    "# copy config files to correct locations\n",
    "remote.run(\"mv kubespray/inventory/sample kubespray/inventory/mycluster\")\n",
    "remote.run(\"git clone https://github.com/teaching-on-testbeds/k8s-ml.git\")\n",
    "remote.run(\"cp k8s-ml/config/k8s-cluster.yml kubespray/inventory/mycluster/group_vars/k8s_cluster/k8s-cluster.yml\")\n",
    "remote.run(\"cp k8s-ml/config/inventory.py    kubespray/contrib/inventory_builder/inventory.py\")\n",
    "remote.run(\"cp k8s-ml/config/addons.yml      kubespray/inventory/mycluster/group_vars/k8s_cluster/addons.yml\")"
   ],
   "id": "3f2e0708-2423-438a-b4a7-c0638592d51f"
  },
  {
   "cell_type": "code",
   "execution_count": null,
   "metadata": {},
   "outputs": [],
   "source": [
    "# build inventory for this specific topology\n",
    "physical_ips = [n['addr'] for n in net_conf[0]['nodes']]\n",
    "physical_ips_str = \" \".join(physical_ips)\n",
    "remote.run(f\"source myenv/bin/activate; declare -a IPS=({physical_ips_str});\"+\"cd kubespray; CONFIG_FILE=inventory/mycluster/hosts.yaml python3 contrib/inventory_builder/inventory.py ${IPS[@]}\")\n"
   ],
   "id": "b071cc00-4b35-4301-934a-3ad0afe87972"
  },
  {
   "cell_type": "code",
   "execution_count": null,
   "metadata": {},
   "outputs": [],
   "source": [
    "# make sure \"controller\" node can SSH into the others\n",
    "remote.run('ssh-keygen -t rsa -b 4096 -f ~/.ssh/id_rsa -q -N \"\"')\n",
    "public_key = remote.run('cat ~/.ssh/id_rsa.pub').tail(\"stdout\")[2:]\n",
    "\n",
    "for physical_ip in physical_ips:\n",
    "    remote_worker = chi.ssh.Remote(physical_ip, gateway=remote)\n",
    "    remote_worker.run(f'echo {public_key} >> ~/.ssh/authorized_keys') "
   ],
   "id": "b199bf8c-7169-4274-bb96-34a04dab94b5"
  },
  {
   "cell_type": "code",
   "execution_count": null,
   "metadata": {},
   "outputs": [],
   "source": [
    "# build the cluster\n",
    "remote.run(\"source myenv/bin/activate; cd kubespray; ansible-playbook -i inventory/mycluster/hosts.yaml  --become --become-user=root cluster.yml\")"
   ],
   "id": "807920a0-6cc9-438c-9d15-b2a8ce17ce2c"
  },
  {
   "cell_type": "code",
   "execution_count": null,
   "metadata": {},
   "outputs": [],
   "source": [
    "# allow kubectl access for non-root user\n",
    "remote.run(\"sudo cp -R /root/.kube /home/cc/.kube; sudo chown -R cc /home/cc/.kube; sudo chgrp -R cc /home/cc/.kube\")"
   ],
   "id": "5cbbdd1c-1e1d-4cb1-990d-077ae4730d87"
  },
  {
   "cell_type": "code",
   "execution_count": null,
   "metadata": {},
   "outputs": [],
   "source": [
    "# check installation\n",
    "remote.run(\"kubectl get nodes\")"
   ],
   "id": "26279fa2-84b6-4390-af9b-81c95fbb98f6"
  },
  {
   "cell_type": "markdown",
   "metadata": {},
   "source": [
    "### Set up Docker\n",
    "\n",
    "Now that we have a Kubernetes cluster, we have a framework in place for container orchestration. But we still need to set up Docker, for building, sharing, and running those containers."
   ],
   "id": "31392215-af78-46c5-893b-49aef395d823"
  },
  {
   "cell_type": "code",
   "execution_count": null,
   "metadata": {},
   "outputs": [],
   "source": [
    "# add the user to the \"docker\" group on all hosts\n",
    "for physical_ip in physical_ips:\n",
    "    remote_worker = chi.ssh.Remote(physical_ip, gateway=remote)\n",
    "    remote_worker.run(\"sudo groupadd -f docker; sudo usermod -aG docker $USER\")"
   ],
   "id": "d834df68-d909-425c-8c60-1b9eb5ad06ac"
  },
  {
   "cell_type": "code",
   "execution_count": null,
   "metadata": {},
   "outputs": [],
   "source": [
    "# set up a private distribution registry on the \"controller\" node for distributing containers\n",
    "# note: need a brand-new SSH session in order to \"get\" new group membership\n",
    "remote = chi.ssh.Remote(server_ips[0])\n",
    "remote.run(\"docker run -d -p 5000:5000 --restart always --name registry registry:2\")"
   ],
   "id": "2421921b-befb-453f-91cd-16c34b76bfc5"
  },
  {
   "cell_type": "code",
   "execution_count": null,
   "metadata": {},
   "outputs": [],
   "source": [
    "# set up docker configuration on all the hosts\n",
    "for physical_ip in physical_ips:\n",
    "    remote_worker = chi.ssh.Remote(physical_ip, gateway=remote)\n",
    "    remote_worker.run(\"sudo wget https://raw.githubusercontent.com/teaching-on-testbeds/k8s-ml/main/config/daemon.json -O /etc/docker/daemon.json\")\n",
    "    remote_worker.run(\"sudo service docker restart\")\n"
   ],
   "id": "7f63b346-3050-406c-8501-d000cba3048f"
  },
  {
   "cell_type": "code",
   "execution_count": null,
   "metadata": {},
   "outputs": [],
   "source": [
    "# check configuration\n",
    "remote.run(\"docker run hello-world\")"
   ],
   "id": "2f7388d6-6ddd-4d2a-9f72-0552c7de0073"
  },
  {
   "cell_type": "markdown",
   "metadata": {},
   "source": [
    "### Get SSH login details"
   ],
   "id": "f18a7f5c-9f7f-4a22-bd24-2b041ac2e5b5"
  },
  {
   "cell_type": "markdown",
   "metadata": {},
   "source": [
    "At this point, we should be able to log in to our “controller” node over SSH! Run the following cell, and observe the output - you will see an SSH command this node."
   ],
   "id": "fd37105b-ed4d-4a1f-a087-72468c6242df"
  },
  {
   "cell_type": "code",
   "execution_count": null,
   "metadata": {},
   "outputs": [],
   "source": [
    "print(\"ssh cc@\" + server_ips[0])"
   ],
   "id": "e5653bdb-0fa4-40bd-9408-67f4df031efa"
  },
  {
   "cell_type": "markdown",
   "metadata": {},
   "source": [
    "Now, you can open an SSH session on any of the nodes as follows:\n",
    "\n",
    "-   In Jupyter, from the menu bar, use File \\> New \\> Terminal to open a new terminal.\n",
    "-   Copy an SSH command from the output above, and paste it into the terminal.\n",
    "-   You can repeat this process (open several terminals) to start a session on each node. Each terminal session will have a tab in the Jupyter environment, so that you can easily switch between them.\n",
    "\n",
    "Alternatively, you can use your local terminal to log on to each node, if you prefer. (On your local terminal, you may need to also specify your key path as part of the SSH command, using the `-i` argument followed by the path to your private key.)"
   ],
   "id": "d2558549-1be6-45ef-a931-8dde983ab61b"
  },
  {
   "cell_type": "markdown",
   "metadata": {},
   "source": [
    "You can also use `scp` to transfer a file to the remote host from your local terminal. Later in this exercise, you will want to transfer a file named `model.keras` to the directory `~/k8s-ml/app/` on this remote host. If your private key is in `~/.ssh/id_rsa_chameleon`, you would:\n",
    "\n",
    "-   open a *local* terminal on your own device in the same directory where your `model.keras` is located\n",
    "-   run the cell below\n",
    "-   copy and paste the output into your terminal to transfer the file."
   ],
   "id": "e3a398f3-0239-434f-b809-489faf28f4f8"
  },
  {
   "cell_type": "code",
   "execution_count": null,
   "metadata": {},
   "outputs": [],
   "source": [
    "print(\"scp -i ~/.ssh/id_rsa_chameleon model.keras cc@\" + server_ips[0] + \":~/k8s-ml/app/\")"
   ],
   "id": "0313ce35-0826-448a-87af-1a806500965d"
  }
 ],
 "nbformat": 4,
 "nbformat_minor": 5,
 "metadata": {}
}
