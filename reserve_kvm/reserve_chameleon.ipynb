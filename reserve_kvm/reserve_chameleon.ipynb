{
 "cells": [
  {
   "cell_type": "markdown",
   "metadata": {},
   "source": [
    "## Reserve and configure resources on KVM"
   ],
   "id": "4139ce39-c7a9-4905-88e3-bb83355aeb7a"
  },
  {
   "cell_type": "markdown",
   "metadata": {},
   "source": [
    "Before you run this experiment, you will:\n",
    "\n",
    "-   define the specific configuration of resources you need.\n",
    "-   “instantiate” an experiment with your reserved resources.\n",
    "-   wait for your resources to be configured.\n",
    "-   log in to resources to carry out the experiment.\n",
    "\n",
    "This exercise will guide you through those steps."
   ],
   "id": "4bd07e1f-0d37-45c6-abea-a80bbae05edd"
  },
  {
   "cell_type": "markdown",
   "metadata": {},
   "source": [
    "### Configure environment"
   ],
   "id": "6a31e634-a572-4e4a-80e0-94f9435d88cf"
  },
  {
   "cell_type": "code",
   "execution_count": null,
   "metadata": {},
   "outputs": [],
   "source": [
    "import openstack, chi, chi.ssh, chi.network, chi.server, os"
   ],
   "id": "ebc74030-094e-438b-bd07-203aa8921873"
  },
  {
   "cell_type": "markdown",
   "metadata": {},
   "source": [
    "In this section, we configure the Chameleon Python client.\n",
    "\n",
    "For this experiment, we’re going to use the KVM@TACC site, which we indicate below.\n",
    "\n",
    "We also need to specify the name of the Chameleon “project” that this experiment is part of. The project name will have the format “CHI-XXXXXX”, where the last part is a 6-digit number, and you can find it on your [user dashboard](https://chameleoncloud.org/user/dashboard/)."
   ],
   "id": "93174826-cfbc-4a77-a1d6-1bd872391947"
  },
  {
   "cell_type": "markdown",
   "metadata": {},
   "source": [
    "In the cell below, replace the project ID with your own project ID, then run the cell."
   ],
   "id": "a8a4ec83-6025-4ea7-a0fb-3f75d383e781"
  },
  {
   "cell_type": "code",
   "execution_count": null,
   "metadata": {},
   "outputs": [],
   "source": [
    "chi.use_site(\"KVM@TACC\")\n",
    "PROJECT_NAME = \"CHI-XXXXXX\"\n",
    "chi.set(\"project_name\", PROJECT_NAME)\n",
    "\n",
    "# configure openstacksdk for actions unsupported by python-chi\n",
    "os_conn = chi.clients.connection()\n"
   ],
   "id": "4682f010-1e64-48b2-b085-34ecd737fd57"
  },
  {
   "cell_type": "markdown",
   "metadata": {},
   "source": [
    "### Define configuration for this experiment (3 VMs)"
   ],
   "id": "a98843a4-957d-4ea4-a92b-d693dbd42a5f"
  },
  {
   "cell_type": "markdown",
   "metadata": {},
   "source": [
    "For this specific experiment, we will need three virtual machines connected to a common network. Each of the virtual machines will be of the `m1.large` type, with 4 VCPUs, 8 GB memory, 40 GB disk space."
   ],
   "id": "49da8d69-3d62-4c6b-b5ec-22e0598929bc"
  },
  {
   "cell_type": "code",
   "execution_count": null,
   "metadata": {},
   "outputs": [],
   "source": [
    "username = os.getenv('USER')\n",
    "\n",
    "node_conf = [\n",
    " {'name': \"node-0\",  'flavor': 'm1.large', 'image': 'CC-Ubuntu20.04', 'packages': [\"virtualenv\"], 'bastion': True}, \n",
    " {'name': \"node-1\",  'flavor': 'm1.large', 'image': 'CC-Ubuntu20.04', 'packages': [], 'bastion': False}, \n",
    " {'name': \"node-2\",  'flavor': 'm1.large', 'image': 'CC-Ubuntu20.04', 'packages': [], 'bastion': False} \n",
    "]\n",
    "net_conf = [\n",
    " {\"name\": \"net0\", \"subnet\": \"192.168.1.0/24\", \"nodes\": [{\"name\": \"node-0\",   \"addr\": \"192.168.1.10\"}, {\"name\": \"node-1\", \"addr\": \"192.168.1.11\"}, {\"name\": \"node-2\", \"addr\": \"192.168.1.12\"}]},\n",
    "]\n",
    "route_conf = []"
   ],
   "id": "4b2d35d1-e4c4-4d87-b6aa-f3e0bfdc1687"
  },
  {
   "cell_type": "markdown",
   "metadata": {},
   "source": [
    "### Configure resources\n",
    "\n",
    "Now, we will prepare the VMs and network links that our experiment requires."
   ],
   "id": "773bb558-98d1-4e62-a5cc-8ef4c8546632"
  },
  {
   "cell_type": "markdown",
   "metadata": {},
   "source": [
    "First, we will prepare a “public” network that we will use for SSH access to our VMs -"
   ],
   "id": "b2fc76d3-150b-4c5c-b6d9-3e5934282912"
  },
  {
   "cell_type": "code",
   "execution_count": null,
   "metadata": {},
   "outputs": [],
   "source": [
    "public_net = os_conn.network.create_network(name=\"public_net_\" + username)\n",
    "public_net_id = public_net.get(\"id\")\n",
    "public_subnet = os_conn.network.create_subnet(\n",
    "    name=\"public_subnet_\" + username,\n",
    "    network_id=public_net.get(\"id\"),\n",
    "    ip_version='4',\n",
    "    cidr=\"192.168.10.0/24\",\n",
    "    gateway_ip=\"192.168.10.1\",\n",
    "    is_dhcp_enabled = True\n",
    ")"
   ],
   "id": "aba8b33e-c8db-4973-96d3-fdc5cc232cf1"
  },
  {
   "cell_type": "markdown",
   "metadata": {},
   "source": [
    "Next, we will prepare the “experiment” networks -"
   ],
   "id": "cc047d74-39e6-47d3-b883-b507b204de56"
  },
  {
   "cell_type": "code",
   "execution_count": null,
   "metadata": {},
   "outputs": [],
   "source": [
    "nets = []\n",
    "net_ids = []\n",
    "subnets = []\n",
    "for n in net_conf:\n",
    "    exp_net = os_conn.network.create_network(name=\"exp_\" + n['name']  + '_' + username)\n",
    "    exp_net_id = exp_net.get(\"id\")\n",
    "    os_conn.network.update_network(exp_net, is_port_security_enabled=False)\n",
    "    exp_subnet = os_conn.network.create_subnet(\n",
    "        name=\"exp_subnet_\" + n['name']  + '_' + username,\n",
    "        network_id=exp_net.get(\"id\"),\n",
    "        ip_version='4',\n",
    "        cidr=n['subnet'],\n",
    "        gateway_ip=None,\n",
    "        is_dhcp_enabled = True\n",
    "    )\n",
    "    nets.append(exp_net)\n",
    "    net_ids.append(exp_net_id)\n",
    "    subnets.append(exp_subnet)"
   ],
   "id": "9474385e-ca2e-4d84-bbcc-78659b9e7715"
  },
  {
   "cell_type": "markdown",
   "metadata": {},
   "source": [
    "Now we create the VMs -"
   ],
   "id": "623aae9d-0ca6-4b22-b764-72e5cd48fcc7"
  },
  {
   "cell_type": "code",
   "execution_count": null,
   "metadata": {},
   "outputs": [],
   "source": [
    "servers = []\n",
    "server_ids = []\n",
    "for i, n in enumerate(node_conf, start=10):\n",
    "    image_uuid = os_conn.image.find_image(n['image']).id\n",
    "    flavor_uuid = os_conn.compute.find_flavor(n['flavor']).id\n",
    "    # find out details of exp interface(s)\n",
    "    nics = [{'net-id': chi.network.get_network_id( \"exp_\" + net['name']  + '_' + username ), 'v4-fixed-ip': node['addr']} for net in net_conf for node in net['nodes'] if node['name']==n['name']]\n",
    "    # also include a public network interface\n",
    "    nics.insert(0, {\"net-id\": public_net_id, \"v4-fixed-ip\":\"192.168.10.\" + str(i)})\n",
    "    server = chi.server.create_server(\n",
    "        server_name=n['name'] + \"_\" + username,\n",
    "        image_id=image_uuid,\n",
    "        flavor_id=flavor_uuid,\n",
    "        nics=nics\n",
    "    )\n",
    "    servers.append(server)\n",
    "    server_ids.append(chi.server.get_server(n['name'] + \"_\" + username).id)"
   ],
   "id": "780ff6ae-f870-4b3d-ba3f-ea4110c5023f"
  },
  {
   "cell_type": "markdown",
   "metadata": {},
   "source": [
    "We wait for all servers to come up before we proceed -"
   ],
   "id": "acf5dfef-1810-4f2d-9eee-fc4254271e1c"
  },
  {
   "cell_type": "code",
   "execution_count": null,
   "metadata": {},
   "outputs": [],
   "source": [
    "for server_id in server_ids:\n",
    "    chi.server.wait_for_active(server_id)"
   ],
   "id": "34e89a79-fa61-4938-b13b-d01358e15c92"
  },
  {
   "cell_type": "markdown",
   "metadata": {},
   "source": [
    "Next, we will set up SSH access to the VMs.\n",
    "\n",
    "First, we will make sure the “public” network is connected to the Internet. Then, we will configure it to permit SSH access on port 22 for each port connected to this network."
   ],
   "id": "079d8f18-aa04-4d3f-8aed-4273f9c2d63a"
  },
  {
   "cell_type": "code",
   "execution_count": null,
   "metadata": {},
   "outputs": [],
   "source": [
    "# connect them to the Internet on the \"public\" network (e.g. for software installation)\n",
    "router = chi.network.create_router('inet_router_' + username, gw_network_name='public')\n",
    "chi.network.add_subnet_to_router(router.get(\"id\"), public_subnet.get(\"id\"))"
   ],
   "id": "9af86f2b-5538-4afc-882f-0b7d7366ac2f"
  },
  {
   "cell_type": "code",
   "execution_count": null,
   "metadata": {},
   "outputs": [],
   "source": [
    "# prepare SSH access on the servers that serve in \"bastion\" role\n",
    "# WARNING: this relies on undocumented behavior of associate_floating_ip \n",
    "# that it associates the IP with the first port on the server\n",
    "server_ips = []\n",
    "for i, n in enumerate(node_conf):\n",
    "    if 'bastion' in n and n['bastion']:\n",
    "        ip = chi.server.associate_floating_ip(server_ids[i])\n",
    "        server_ips.append(ip)"
   ],
   "id": "bb89a246-44ee-4c23-9cc8-e7e650905984"
  },
  {
   "cell_type": "code",
   "execution_count": null,
   "metadata": {},
   "outputs": [],
   "source": [
    "if not os_conn.get_security_group(\"Allow SSH\"):\n",
    "    os_conn.create_security_group(\"Allow SSH\", \"Enable SSH traffic on TCP port 22\")\n",
    "    os_conn.create_security_group_rule(\"Allow SSH\", port_range_min=22, port_range_max=22, protocol='tcp', remote_ip_prefix='0.0.0.0/0')\n",
    "\n",
    "security_group_id = os_conn.get_security_group(\"Allow SSH\").id\n",
    "for port in chi.network.list_ports(): \n",
    "    if port['port_security_enabled'] and port['network_id']==public_net.get(\"id\"):\n",
    "        os_conn.network.update_port(port['id'], security_groups=[security_group_id])"
   ],
   "id": "157ed5d1-4276-4300-a113-b2d849c30355"
  },
  {
   "cell_type": "code",
   "execution_count": null,
   "metadata": {},
   "outputs": [],
   "source": [
    "for ip in server_ips:\n",
    "    chi.server.wait_for_tcp(ip, port=22)"
   ],
   "id": "9ab9870d-d03d-4d30-847f-45c1fd55948b"
  },
  {
   "cell_type": "markdown",
   "metadata": {},
   "source": [
    "The following cell may raise an error if some of your nodes are still getting set up! If that happens, wait a few minutes and try again. (And then a few minutes more, and try again, if it still raises an error.)"
   ],
   "id": "ca409528-1484-40cc-bce0-a7317588a7fc"
  },
  {
   "cell_type": "code",
   "execution_count": null,
   "metadata": {},
   "outputs": [],
   "source": [
    "primary_remote = chi.ssh.Remote(server_ips[0])\n",
    "physical_ips = [n['addr'] for n in net_conf[0]['nodes']]\n",
    "server_remotes = [chi.ssh.Remote(physical_ip, gateway=primary_remote) for physical_ip in physical_ips]"
   ],
   "id": "60335a2b-aa29-4622-8bf3-9c4fa53bd1ee"
  },
  {
   "cell_type": "markdown",
   "metadata": {},
   "source": [
    "Finally, we need to configure our resources, including software package installation and network configuration."
   ],
   "id": "9171b063-98d7-443a-a9c1-df312f3d794f"
  },
  {
   "cell_type": "code",
   "execution_count": null,
   "metadata": {},
   "outputs": [],
   "source": [
    "for i, n in enumerate(node_conf):\n",
    "    remote = server_remotes[i]\n",
    "    # enable forwarding\n",
    "    remote.run(f\"sudo sysctl -w net.ipv4.ip_forward=1\") \n",
    "    remote.run(f\"sudo ufw disable\") "
   ],
   "id": "b4185fc9-ebe8-41b1-bee6-7c38c512f102"
  },
  {
   "cell_type": "code",
   "execution_count": null,
   "metadata": {},
   "outputs": [],
   "source": [
    "for i, n in enumerate(node_conf):\n",
    "    # install packages\n",
    "    if len(n['packages']):\n",
    "            remote = server_remotes[i]\n",
    "            remote.run(f\"sudo apt update; sudo apt -y install \" + \" \".join(n['packages'])) "
   ],
   "id": "884ef035-5e3f-47a5-b9e7-97ccce9d4392"
  },
  {
   "cell_type": "code",
   "execution_count": null,
   "metadata": {},
   "outputs": [],
   "source": [
    "# prepare a \"hosts\" file that has names and addresses of every node\n",
    "hosts_txt = [ \"%s\\t%s\" % ( n['addr'], n['name'] ) for net in net_conf  for n in net['nodes'] if type(n) is dict and n['addr']]\n",
    "for remote in server_remotes:\n",
    "    for h in hosts_txt:\n",
    "        remote.run(\"echo %s | sudo tee -a /etc/hosts > /dev/null\" % h)"
   ],
   "id": "b5ba65bb-08d5-4b82-ba86-30942c2baa5f"
  },
  {
   "cell_type": "code",
   "execution_count": null,
   "metadata": {},
   "outputs": [],
   "source": [
    "# we also need to enable incoming traffic on the HTTP port\n",
    "if not os_conn.get_security_group(\"Allow HTTP 32000\"):\n",
    "    os_conn.create_security_group(\"Allow HTTP 32000\", \"Enable HTTP traffic on TCP port 32000\")\n",
    "    os_conn.create_security_group_rule(\"Allow HTTP 32000\", port_range_min=32000, port_range_max=32000, protocol='tcp', remote_ip_prefix='0.0.0.0/0')\n",
    "\n",
    "# add existing security group\n",
    "security_group_id = os_conn.get_security_group(\"Allow HTTP 32000\").id\n",
    "for port in chi.network.list_ports(): \n",
    "    if port['port_security_enabled'] and port['network_id']==public_net.get(\"id\"):\n",
    "        pri_security_groups = port['security_groups']\n",
    "        pri_security_groups.append(security_group_id)\n",
    "        os_conn.network.update_port(port['id'], security_groups=pri_security_groups)"
   ],
   "id": "fb97b76d-7dfb-46b7-b232-11ebd9fab68f"
  },
  {
   "cell_type": "markdown",
   "metadata": {},
   "source": [
    "### Draw the network topology"
   ],
   "id": "e863a63b-f7e7-48a4-9dfe-9b347523ff39"
  },
  {
   "cell_type": "markdown",
   "metadata": {},
   "source": [
    "The following cells will draw the network topology, for your reference."
   ],
   "id": "eb634a47-c46e-422b-bca0-b6ef952cbd95"
  },
  {
   "cell_type": "code",
   "execution_count": null,
   "metadata": {},
   "outputs": [],
   "source": [
    "!pip install networkx"
   ],
   "id": "56fb9ced-80f4-4630-b546-c4ec4122e201"
  },
  {
   "cell_type": "code",
   "execution_count": null,
   "metadata": {},
   "outputs": [],
   "source": [
    "nodes = [ (n['name'], {'color': 'pink'}) for n in net_conf ] + [(n['name'], {'color': 'lightblue'}) for n in node_conf ]\n",
    "edges = [(net['name'], node['name'], \n",
    "          {'label': node['addr'] + '/' + net['subnet'].split(\"/\")[1] }) if node['addr'] else (net['name'], node['name']) for net in net_conf for node in net['nodes'] ]"
   ],
   "id": "9b6ca38e-b6c8-4437-9c2a-7bb80a3316df"
  },
  {
   "cell_type": "code",
   "execution_count": null,
   "metadata": {},
   "outputs": [],
   "source": [
    "import networkx as nx\n",
    "import matplotlib.pyplot as plt\n",
    "plt.figure(figsize=(len(nodes),len(nodes)))\n",
    "G = nx.Graph()\n",
    "G.add_nodes_from(nodes)\n",
    "G.add_edges_from(edges)\n",
    "pos = nx.spring_layout(G)\n",
    "nx.draw(G, pos, node_shape='s',  \n",
    "        node_color=[n[1]['color'] for n in nodes], \n",
    "        node_size=[len(n[0])*400 for n in nodes],  \n",
    "        with_labels=True);\n",
    "nx.draw_networkx_edge_labels(G,pos,\n",
    "                             edge_labels=nx.get_edge_attributes(G,'label'),\n",
    "                             font_color='gray',  font_size=8, rotate=False);"
   ],
   "id": "d9a6ddc1-6dca-4ac7-ba2f-8904ab14cea9"
  },
  {
   "cell_type": "markdown",
   "metadata": {},
   "source": [
    "### Use Kubespray to prepare a Kubernetes cluster"
   ],
   "id": "845086b5-25cb-4d45-a2ee-246c13b3e429"
  },
  {
   "cell_type": "markdown",
   "metadata": {},
   "source": [
    "Now that are resources are “up”, we will use Kubespray, a software utility for preparing and configuring a Kubernetes cluster, to set them up as a cluster."
   ],
   "id": "7d8e1e84-88e4-42f5-8b6b-caf7183a4a3e"
  },
  {
   "cell_type": "code",
   "execution_count": null,
   "metadata": {},
   "outputs": [],
   "source": [
    "# install Python libraries required for Kubespray\n",
    "remote = chi.ssh.Remote(server_ips[0])\n",
    "remote.run(\"virtualenv -p python3 myenv\")\n",
    "remote.run(\"git clone --branch release-2.22 https://github.com/kubernetes-sigs/kubespray.git\")\n",
    "remote.run(\"source myenv/bin/activate; cd kubespray; pip3 install -r requirements.txt\")"
   ],
   "id": "d14b573e-cf06-4d24-8210-6d776b9bdf3b"
  },
  {
   "cell_type": "code",
   "execution_count": null,
   "metadata": {},
   "outputs": [],
   "source": [
    "# copy config files to correct locations\n",
    "remote.run(\"mv kubespray/inventory/sample kubespray/inventory/mycluster\")\n",
    "remote.run(\"git clone https://github.com/teaching-on-testbeds/k8s-ml.git\")\n",
    "remote.run(\"cp k8s-ml/config/k8s-cluster.yml kubespray/inventory/mycluster/group_vars/k8s_cluster/k8s-cluster.yml\")\n",
    "remote.run(\"cp k8s-ml/config/inventory.py    kubespray/contrib/inventory_builder/inventory.py\")\n",
    "remote.run(\"cp k8s-ml/config/addons.yml      kubespray/inventory/mycluster/group_vars/k8s_cluster/addons.yml\")"
   ],
   "id": "d0af01fd-c042-4486-8fc3-772bd35f08c1"
  },
  {
   "cell_type": "code",
   "execution_count": null,
   "metadata": {},
   "outputs": [],
   "source": [
    "# build inventory for this specific topology\n",
    "physical_ips = [n['addr'] for n in net_conf[0]['nodes']]\n",
    "physical_ips_str = \" \".join(physical_ips)\n",
    "remote.run(f\"source myenv/bin/activate; declare -a IPS=({physical_ips_str});\"+\"cd kubespray; CONFIG_FILE=inventory/mycluster/hosts.yaml python3 contrib/inventory_builder/inventory.py ${IPS[@]}\")\n"
   ],
   "id": "5785d885-3287-41ef-ab0c-8fcfb6b4222b"
  },
  {
   "cell_type": "code",
   "execution_count": null,
   "metadata": {},
   "outputs": [],
   "source": [
    "# make sure \"controller\" node can SSH into the others\n",
    "remote.run('ssh-keygen -t rsa -b 4096 -f ~/.ssh/id_rsa -q -N \"\"')\n",
    "public_key = remote.run('cat ~/.ssh/id_rsa.pub').tail(\"stdout\")[2:]\n",
    "\n",
    "for physical_ip in physical_ips:\n",
    "    remote_worker = chi.ssh.Remote(physical_ip, gateway=remote)\n",
    "    remote_worker.run(f'echo {public_key} >> ~/.ssh/authorized_keys') "
   ],
   "id": "47e1d1c4-49e3-48c3-84ce-1cb53e1c38cb"
  },
  {
   "cell_type": "code",
   "execution_count": null,
   "metadata": {},
   "outputs": [],
   "source": [
    "# build the cluster\n",
    "remote.run(\"source myenv/bin/activate; cd kubespray; ansible-playbook -i inventory/mycluster/hosts.yaml  --become --become-user=root cluster.yml\")"
   ],
   "id": "9c8e34dc-c812-4ed2-a0b9-c5c02bc762a3"
  },
  {
   "cell_type": "code",
   "execution_count": null,
   "metadata": {},
   "outputs": [],
   "source": [
    "# allow kubectl access for non-root user\n",
    "remote.run(\"sudo cp -R /root/.kube /home/cc/.kube; sudo chown -R cc /home/cc/.kube; sudo chgrp -R cc /home/cc/.kube\")"
   ],
   "id": "74b8a907-7060-4214-a027-b9d5a9e936c0"
  },
  {
   "cell_type": "code",
   "execution_count": null,
   "metadata": {},
   "outputs": [],
   "source": [
    "# check installation\n",
    "remote.run(\"kubectl get nodes\")"
   ],
   "id": "fdbdaf43-048e-4a72-bc4e-3f0833609d91"
  },
  {
   "cell_type": "markdown",
   "metadata": {},
   "source": [
    "### Set up Docker\n",
    "\n",
    "Now that we have a Kubernetes cluster, we have a framework in place for container orchestration. But we still need to set up Docker, for building, sharing, and running those containers."
   ],
   "id": "448da319-1062-49bd-849e-7efa919102ae"
  },
  {
   "cell_type": "code",
   "execution_count": null,
   "metadata": {},
   "outputs": [],
   "source": [
    "# add the user to the \"docker\" group on all hosts\n",
    "for physical_ip in physical_ips:\n",
    "    remote_worker = chi.ssh.Remote(physical_ip, gateway=remote)\n",
    "    remote_worker.run(\"sudo groupadd -f docker; sudo usermod -aG docker $USER\")"
   ],
   "id": "130779f5-13c7-4574-b1ea-db5195ee5eb1"
  },
  {
   "cell_type": "code",
   "execution_count": null,
   "metadata": {},
   "outputs": [],
   "source": [
    "# set up a private distribution registry on the \"controller\" node for distributing containers\n",
    "# note: need a brand-new SSH session in order to \"get\" new group membership\n",
    "remote = chi.ssh.Remote(server_ips[0])\n",
    "remote.run(\"docker run -d -p 5000:5000 --restart always --name registry registry:2\")"
   ],
   "id": "53054df1-c19c-4947-ae2f-f7ef4f2ae6b8"
  },
  {
   "cell_type": "code",
   "execution_count": null,
   "metadata": {},
   "outputs": [],
   "source": [
    "# set up docker configuration on all the hosts\n",
    "for physical_ip in physical_ips:\n",
    "    remote_worker = chi.ssh.Remote(physical_ip, gateway=remote)\n",
    "    remote_worker.run(\"sudo wget https://raw.githubusercontent.com/teaching-on-testbeds/k8s-ml/main/config/daemon.json -O /etc/docker/daemon.json\")\n",
    "    remote_worker.run(\"sudo service docker restart\")\n"
   ],
   "id": "38edf2e6-0666-46b3-b7d2-7b7729f3762e"
  },
  {
   "cell_type": "code",
   "execution_count": null,
   "metadata": {},
   "outputs": [],
   "source": [
    "# check configuration\n",
    "remote.run(\"docker run hello-world\")"
   ],
   "id": "6bf50eae-b75d-4cda-95e8-5edd65709754"
  },
  {
   "cell_type": "markdown",
   "metadata": {},
   "source": [
    "### Get SSH login details"
   ],
   "id": "191d453f-ef02-4d5f-83ca-01b5ff3ad3b4"
  },
  {
   "cell_type": "markdown",
   "metadata": {},
   "source": [
    "At this point, we should be able to log in to our “controller” node over SSH! Run the following cell, and observe the output - you will see an SSH command this node."
   ],
   "id": "b848b8c7-d14f-4474-8564-3c638b01a276"
  },
  {
   "cell_type": "code",
   "execution_count": null,
   "metadata": {},
   "outputs": [],
   "source": [
    "print(\"ssh cc@\" + server_ips[0])"
   ],
   "id": "1f3b36f4-7b87-4ca6-9b6f-953a79ef828a"
  },
  {
   "cell_type": "markdown",
   "metadata": {},
   "source": [
    "Now, you can open an SSH session as follows:\n",
    "\n",
    "-   In Jupyter, from the menu bar, use File \\> New \\> Terminal to open a new terminal.\n",
    "-   Copy the SSH command from the output above, and paste it into the terminal.\n",
    "\n",
    "Alternatively, you can use your local terminal to log on to each node, if you prefer. (On your local terminal, you may need to also specify your key path as part of the SSH command, using the `-i` argument followed by the path to your private key.)"
   ],
   "id": "2cdfaff3-4d0f-422b-b2de-6fa2bf946095"
  },
  {
   "cell_type": "markdown",
   "metadata": {},
   "source": [
    "You can also use `scp` to transfer a file to the remote host from your local terminal. Later in this exercise, you will want to transfer a file named `model.keras` to the directory `~/k8s-ml/app/` on this remote host. If your private key is in `~/.ssh/id_rsa_chameleon`, you would:\n",
    "\n",
    "-   open a *local* terminal on your own device in the same directory where your `model.keras` is located\n",
    "-   run the cell below\n",
    "-   copy and paste the output into your terminal to transfer the file."
   ],
   "id": "645b2dc0-669e-433b-b26a-a2838765b8a4"
  },
  {
   "cell_type": "code",
   "execution_count": null,
   "metadata": {},
   "outputs": [],
   "source": [
    "print(\"scp -i ~/.ssh/id_rsa_chameleon model.keras cc@\" + server_ips[0] + \":~/k8s-ml/app/\")"
   ],
   "id": "49476975-0360-4484-86c9-77533e39d82a"
  }
 ],
 "nbformat": 4,
 "nbformat_minor": 5,
 "metadata": {}
}
