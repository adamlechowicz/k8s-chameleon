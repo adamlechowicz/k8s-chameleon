{
 "cells": [
  {
   "cell_type": "markdown",
   "id": "7c2aebb5-3e1d-4907-aa48-ff8c2e511c00",
   "metadata": {},
   "source": [
    "## Reserve and configure resources on KVM"
   ]
  },
  {
   "cell_type": "markdown",
   "id": "3a9f11ac-d907-4342-b962-742fc461885b",
   "metadata": {},
   "source": [
    "## Create lease and reserve resources"
   ]
  },
  {
   "cell_type": "code",
   "execution_count": null,
   "id": "ed46f11e-06c4-4192-ad28-d346a571be13",
   "metadata": {},
   "outputs": [],
   "source": [
    "import json\n",
    "import os\n",
    "import chi\n",
    "import chi.ssh\n",
    "import chi.network\n",
    "from datetime import datetime, timedelta\n",
    "from dateutil import tz\n",
    "import chi.server"
   ]
  },
  {
   "cell_type": "code",
   "execution_count": null,
   "id": "9d402d03-799d-45bc-896f-dece5443e303",
   "metadata": {},
   "outputs": [],
   "source": [
    "import chi,os\n",
    "\n",
    "site_name = \"KVM@TACC\"\n",
    "chi.use_site(site_name)\n",
    "os.environ[\"OS_REGION_NAME\"] = site_name\n",
    "project = os.getenv(\"OS_PROJECT_NAME\")\n",
    "chi.set('project_name', project)"
   ]
  },
  {
   "cell_type": "code",
   "execution_count": null,
   "id": "35acd7b9-abac-44ce-8609-522d02aee701",
   "metadata": {},
   "outputs": [],
   "source": [
    "username = os.getenv(\"USER\")\n",
    "suffix = username + \"_k8s-ml\"\n",
    "server_prefix = \"node\" \n",
    "network_name = \"net-\" + suffix\n",
    "subnet_name = \"subnet-\" + suffix\n",
    "router_name = \"router-\" + suffix\n",
    "lease_name = \"lease-\" + suffix"
   ]
  },
  {
   "cell_type": "code",
   "execution_count": null,
   "id": "9693b343-bfc6-41cb-ad4e-e1d27cb87052",
   "metadata": {},
   "outputs": [],
   "source": [
    "#Server attributes\n",
    "image_name='CC-Ubuntu18.04'\n",
    "node_type=\"compute_cascadelake_r\"\n",
    "server_count=3\n",
    "physical_network=\"physnet1\"\n",
    "subnet_cidr = '192.168.1.0/24'"
   ]
  },
  {
   "cell_type": "markdown",
   "id": "35ed3518-83de-4f33-bc16-dc9fbcbe894e",
   "metadata": {},
   "source": [
    "#### Create the Network"
   ]
  },
  {
   "cell_type": "code",
   "execution_count": null,
   "id": "0dfbc511-ad9f-413b-ad8b-86ef463b29d1",
   "metadata": {},
   "outputs": [],
   "source": [
    "os_conn = chi.clients.connection()"
   ]
  },
  {
   "cell_type": "code",
   "execution_count": null,
   "id": "edb046af-6a6f-48b8-8660-49cb186a4887",
   "metadata": {},
   "outputs": [],
   "source": [
    "network = os_conn.create_network(\n",
    "                network_name,\n",
    "            )\n",
    "network_id = network['id']\n",
    "\n",
    "print(f'Network ID: {network_id}')\n"
   ]
  },
  {
   "cell_type": "markdown",
   "id": "0e0bb94d-1b35-4170-8f7f-1f17a80b7df0",
   "metadata": {},
   "source": [
    "#### Configure the Network"
   ]
  },
  {
   "cell_type": "code",
   "execution_count": null,
   "id": "20020651-8ca5-403b-bc73-2d473c5f2556",
   "metadata": {},
   "outputs": [],
   "source": [
    "subnet = chi.network.create_subnet(subnet_name, network_id, cidr=subnet_cidr, gateway_ip=None)\n",
    "router = chi.network.create_router(router_name, gw_network_name='public')\n",
    "chi.network.add_subnet_to_router(router['id'], subnet['id'])"
   ]
  },
  {
   "cell_type": "markdown",
   "id": "e42e38d8-6251-4c96-9b3a-d11abf10a887",
   "metadata": {},
   "source": [
    "#### Start the server"
   ]
  },
  {
   "cell_type": "code",
   "execution_count": null,
   "id": "64ca57d4-c7a0-4319-b653-622029221a47",
   "metadata": {},
   "outputs": [],
   "source": [
    "servers = []\n",
    "for i in range(server_count):\n",
    "    servers.append(chi.server.create_server(server_prefix+f\"-{i}-\" + suffix, \n",
    "                                  network_id=network_id,\n",
    "                                  nics=[{\"net-id\": network_id,\"v4-fixed-ip\": f\"192.168.1.1{i}\" }],\n",
    "                                  image_name=image_name,\n",
    "                                            flavor_name= \"m1.large\",\n",
    "                                  count=1))"
   ]
  },
  {
   "cell_type": "markdown",
   "id": "6885529e-37f7-44ee-9b58-e3f445ca7083",
   "metadata": {},
   "source": [
    "#### Associate floating ips"
   ]
  },
  {
   "cell_type": "code",
   "execution_count": null,
   "id": "b6b66d5f-e89d-4364-9cd9-62ba84837f30",
   "metadata": {},
   "outputs": [],
   "source": [
    "nodes = {}\n",
    "\n",
    "for j,i in enumerate(servers):\n",
    "    chi.server.wait_for_active(i.id)\n",
    "    floating_ip = chi.server.associate_floating_ip(i.id)\n",
    "    nodes[j] = floating_ip\n",
    "\n",
    "    print(f'Floating IP of node_{j}: {floating_ip}')"
   ]
  },
  {
   "cell_type": "markdown",
   "id": "e9e6f99c-6193-4676-a175-c1491a531a47",
   "metadata": {},
   "source": [
    "#### Wait for SSH access to all servers"
   ]
  },
  {
   "cell_type": "code",
   "execution_count": null,
   "id": "00c98b77-e048-4468-b15d-397e9cc658e1",
   "metadata": {},
   "outputs": [],
   "source": [
    "for node_ip in nodes.values():\n",
    "    chi.server.wait_for_tcp(node_ip, port=22)"
   ]
  },
  {
   "cell_type": "markdown",
   "id": "13c6d67a-d624-456c-925f-3f2781d50b55",
   "metadata": {},
   "source": [
    "### Configuring the servers"
   ]
  },
  {
   "cell_type": "markdown",
   "id": "f67d6d53-de5a-495a-abf7-4a418dbe6f23",
   "metadata": {},
   "source": [
    "#### Add your public keys to each of the server"
   ]
  },
  {
   "cell_type": "code",
   "execution_count": null,
   "id": "801731fe-3b38-4b04-82c3-4147a9c8f666",
   "metadata": {},
   "outputs": [],
   "source": [
    "from chi.ssh import Remote\n",
    "for node_ip in nodes.values():\n",
    "    remote = Remote(node_ip)\n",
    "    nova=chi.clients.nova()\n",
    "    [kp.name for kp in nova.keypairs.list()]\n",
    "    keypair_name = 'id_rsa_chameleon' # The name of the key they uploaded \n",
    "    public_key = nova.keypairs.get(keypair_name).public_key # Contents of the public key\n",
    "    remote.run(f\"echo {public_key} >> ~/.ssh/authorized_keys\")"
   ]
  },
  {
   "cell_type": "markdown",
   "id": "3311ad8e-13cd-45a8-b505-af346a0ba90a",
   "metadata": {},
   "source": [
    "#### Install keys for SSH access between all servers"
   ]
  },
  {
   "cell_type": "code",
   "execution_count": null,
   "id": "7c39a4c1-bf8e-49ad-b56f-ad4b7f7b054f",
   "metadata": {},
   "outputs": [],
   "source": [
    "for node_ip in nodes.values():\n",
    "    remote = chi.ssh.Remote(node_ip)\n",
    "    remote.run('ssh-keygen -t rsa -b 4096 -f ~/.ssh/id_rsa -q -N \"\"')\n",
    "    public_key = remote.run('cat ~/.ssh/id_rsa.pub').tail(\"stdout\")[2:]\n",
    "    public_key = public_key.replace(\"\\n\", \"\")\n",
    "    for other_node_ip in nodes.values():\n",
    "        remote = chi.ssh.Remote(other_node_ip)\n",
    "        remote.run(f'echo {public_key} >> ~/.ssh/authorized_keys') "
   ]
  },
  {
   "cell_type": "markdown",
   "id": "0afc22c1-4397-4813-98e1-ee47dfbf15a0",
   "metadata": {},
   "source": [
    "#### Store the IP address of each host"
   ]
  },
  {
   "cell_type": "code",
   "execution_count": null,
   "id": "e5e798c2-04ff-409b-8964-c246aafea102",
   "metadata": {},
   "outputs": [],
   "source": [
    "physical_ips=[]\n",
    "for node_ip in nodes.values():\n",
    "    chi.server.wait_for_tcp(node_ip, port=22)\n",
    "    remote = chi.ssh.Remote(node_ip)\n",
    "    physical_ips.append(remote.run('hostname -I').tail(\"stdout\")[2:-1])"
   ]
  },
  {
   "cell_type": "markdown",
   "id": "90876e97-b46b-4d2d-8df3-bc4ecdf20a8e",
   "metadata": {},
   "source": [
    "#### Use Kubespray to prepare a Kubernetes cluster"
   ]
  },
  {
   "cell_type": "code",
   "execution_count": null,
   "id": "1ebf3382-f2c5-438c-a5b0-9e8599a449d6",
   "metadata": {},
   "outputs": [],
   "source": [
    "ansible_node = nodes[0]\n",
    "remote = chi.ssh.Remote(ansible_node)\n",
    "remote.run(\"sudo apt install virtualenv\")\n",
    "remote.run(\"virtualenv -p python3 myenv\")\n",
    "remote.run(\"git clone https://github.com/kubernetes-sigs/kubespray.git\")\n",
    "remote.run(\"cd kubespray; git checkout release-2.16\")\n",
    "remote.run(\"source myenv/bin/activate; cd kubespray; pip3 install -r requirements.txt\")\n",
    "remote.run(\"cd kubespray; cp -rfp inventory/sample inventory/mycluster\")\n",
    "remote.run(\"rm -rf kubespray/contrib/inventory_builder/inventory.py\")\n",
    "remote.run(\"rm -rf kubespray/inventory/mycluster/group_vars/k8s_cluster/addons.yml\")\n",
    "remote.run(\"wget https://raw.githubusercontent.com/teaching-on-testbeds/k8s-ml/main/config/inventory.py -O kubespray/contrib/inventory_builder/inventory.py\")\n",
    "remote.run(\"wget https://raw.githubusercontent.com/teaching-on-testbeds/k8s-ml/main/config/addons.yml -O kubespray/inventory/mycluster/group_vars/k8s_cluster/addons.yml\")\n",
    "remote.run(f\"source myenv/bin/activate; declare -a IPS=({physical_ips[0]} {physical_ips[1]} {physical_ips[2]});\"+\"cd kubespray; CONFIG_FILE=inventory/mycluster/hosts.yaml python3 contrib/inventory_builder/inventory.py ${IPS[@]}\")"
   ]
  },
  {
   "cell_type": "code",
   "execution_count": null,
   "id": "04deb7e7-82e9-4593-8040-044bd9d8ea7f",
   "metadata": {},
   "outputs": [],
   "source": [
    "remote.run(\"source myenv/bin/activate; sudo rm -rf /usr/local/lib/python3.6/dist-packages/OpenSSL\")\n",
    "remote.run(\"source myenv/bin/activate; sudo rm -rf /usr/local/lib/python3.6/dist-packages/pyOpenSSL-22.1.0.dist-info/\")\n",
    "remote.run(\"source myenv/bin/activate; sudo pip3 install pyOpenSSL==22.0.0\")"
   ]
  },
  {
   "cell_type": "code",
   "execution_count": null,
   "id": "0893e3a3-c081-4e3f-a8d0-62a869c5951f",
   "metadata": {},
   "outputs": [],
   "source": [
    "remote.run(\"source myenv/bin/activate; cd kubespray; ansible-playbook -i inventory/mycluster/hosts.yaml  --become --become-user=root cluster.yml\")"
   ]
  },
  {
   "cell_type": "markdown",
   "id": "24b4d2d3-aec9-434b-af52-94095f33e7d9",
   "metadata": {},
   "source": [
    "#### Provide relevent access to kubectl and Docker"
   ]
  },
  {
   "cell_type": "code",
   "execution_count": null,
   "id": "8eea476e-48c7-42f5-8a1f-06ad91a93acc",
   "metadata": {},
   "outputs": [],
   "source": [
    "remote = chi.ssh.Remote(nodes[0])\n",
    "remote.run(\"sudo cp -R /root/.kube /home/cc/.kube; sudo chown -R cc /home/cc/.kube; sudo chgrp -R cc /home/cc/.kube\")"
   ]
  },
  {
   "cell_type": "code",
   "execution_count": null,
   "id": "0b58c09a-fb75-43e9-a40d-078c5928dd76",
   "metadata": {},
   "outputs": [],
   "source": [
    "for i in nodes.keys():\n",
    "    remote = chi.ssh.Remote(nodes[i])\n",
    "    remote.run(\"sudo ufw allow 32000\")"
   ]
  },
  {
   "cell_type": "code",
   "execution_count": null,
   "id": "ccbd3fcb-cfa8-40ca-ab3c-20d94f332d93",
   "metadata": {},
   "outputs": [],
   "source": [
    "remote = chi.ssh.Remote(nodes[0])\n",
    "remote.run(\"sudo groupadd docker; sudo usermod -aG docker $USER\")\n",
    "remote = chi.ssh.Remote(nodes[0])"
   ]
  },
  {
   "cell_type": "markdown",
   "id": "4a76d092-f674-47f7-a7b3-e541e47d2cbc",
   "metadata": {},
   "source": [
    "#### Start local Docker registry"
   ]
  },
  {
   "cell_type": "code",
   "execution_count": null,
   "id": "5da35621-2991-41be-a81c-1cff0864fb25",
   "metadata": {},
   "outputs": [],
   "source": [
    "remote.run(\"docker run -d -p 5000:5000 --restart always --name registry registry:2\")\n",
    "remote.run(\"sudo wget https://raw.githubusercontent.com/teaching-on-testbeds/k8s-ml/main/config/daemon.json -O /etc/docker/daemon.json\")\n",
    "remote.run(\"sudo service docker restart\")"
   ]
  },
  {
   "cell_type": "markdown",
   "id": "2987eff8-6741-4b9c-add2-9a62b9534fc4",
   "metadata": {},
   "source": [
    "#### Check installation "
   ]
  },
  {
   "cell_type": "code",
   "execution_count": null,
   "id": "2dc92c3b-93df-4940-93d0-6c65c33c9280",
   "metadata": {},
   "outputs": [],
   "source": [
    "remote = chi.ssh.Remote(nodes[0])\n",
    "remote.run(\"kubectl get nodes\")"
   ]
  },
  {
   "cell_type": "code",
   "execution_count": null,
   "id": "622ab209-b1d9-41fd-bc85-8074e6316b10",
   "metadata": {},
   "outputs": [],
   "source": [
    "remote.run(\"docker run hello-world\")"
   ]
  },
  {
   "cell_type": "markdown",
   "id": "62ee491f-5423-4723-8799-be51fd8e4b12",
   "metadata": {},
   "source": [
    "# Delete resources"
   ]
  },
  {
   "cell_type": "markdown",
   "id": "d6896f56-ad2a-4739-84f0-8d24ea0fbe8a",
   "metadata": {},
   "source": [
    "### Delete server"
   ]
  },
  {
   "cell_type": "code",
   "execution_count": null,
   "id": "c039671d-20e6-47c5-876d-b0af01ef364f",
   "metadata": {},
   "outputs": [],
   "source": [
    "if True: \n",
    "    for i in servers:\n",
    "      chi.server.delete_server(i.id)"
   ]
  },
  {
   "cell_type": "markdown",
   "id": "c075a634-4e01-4ddf-aa3d-607805759f85",
   "metadata": {},
   "source": [
    "### Delete network and routers"
   ]
  },
  {
   "cell_type": "code",
   "execution_count": null,
   "id": "6ac49a38-fdbb-4626-83c6-669d341b8c5f",
   "metadata": {},
   "outputs": [],
   "source": [
    "router_id = router['id']\n",
    "subnet_id = subnet['id']\n",
    "\n",
    "try:\n",
    "    result = chi.network.remove_subnet_from_router(router_id, subnet_id)\n",
    "except Exception as e:\n",
    "    print(f\"detach_router_by_name error: {str(e)}\")\n",
    "    pass\n",
    "\n",
    "try:\n",
    "    result = chi.network.delete_router(router_id)\n",
    "except Exception as e:\n",
    "    print(f\"delete_router_by_name error: {str(e)}\")\n",
    "    pass\n",
    "\n",
    "try:\n",
    "    result = chi.network.delete_subnet(subnet_id)\n",
    "except Exception as e:\n",
    "    print(f\"delete_subnet_by_name error: {str(e)}\")\n",
    "    pass\n",
    "\n",
    "try:\n",
    "    result = chi.network.delete_network(network_id)\n",
    "except Exception as e:\n",
    "    print(f\"delete_network_by_name error: {str(e)}\")\n",
    "    pass\n"
   ]
  }
 ],
 "metadata": {
  "kernelspec": {
   "display_name": "Python 3 (ipykernel)",
   "language": "python",
   "name": "python3"
  },
  "language_info": {
   "codemirror_mode": {
    "name": "ipython",
    "version": 3
   },
   "file_extension": ".py",
   "mimetype": "text/x-python",
   "name": "python",
   "nbconvert_exporter": "python",
   "pygments_lexer": "ipython3",
   "version": "3.10.9"
  }
 },
 "nbformat": 4,
 "nbformat_minor": 5
}
