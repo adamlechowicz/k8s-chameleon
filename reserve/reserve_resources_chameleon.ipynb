{
 "cells": [
  {
   "cell_type": "markdown",
   "metadata": {
    "id": "tp6qSlR-Ee3A"
   },
   "source": [
    "## Reserve and configure resources on Chameleon"
   ]
  },
  {
   "cell_type": "markdown",
   "metadata": {
    "id": "SQ9zonoEEe3E"
   },
   "source": [
    "## Create lease and reserve resources\n"
   ]
  },
  {
   "cell_type": "code",
   "execution_count": null,
   "metadata": {
    "id": "HmCcoEUoEe3F",
    "outputId": "cf7dd8bf-d4bb-4bc0-8277-8146c59d91a0"
   },
   "outputs": [],
   "source": [
    "import json\n",
    "import os\n",
    "import chi\n",
    "import chi.ssh\n",
    "import chi.network\n",
    "from datetime import datetime, timedelta\n",
    "from dateutil import tz"
   ]
  },
  {
   "cell_type": "code",
   "execution_count": null,
   "metadata": {},
   "outputs": [],
   "source": [
    "#Config with your project and site\n",
    "project = os.getenv(\"OS_PROJECT_NAME\")\n",
    "chi.use_site('CHI@UC')\n",
    "chi.set('project_name', project)"
   ]
  },
  {
   "cell_type": "code",
   "execution_count": null,
   "metadata": {},
   "outputs": [],
   "source": [
    "# Name resources with your username for easier identification\n",
    "username = os.getenv(\"USER\")\n",
    "prefix = username + \"_k8s-ml_\"\n",
    "server_name = prefix + 'Server'\n",
    "network_name = prefix + 'Net'\n",
    "subnet_name = prefix + 'Subnet'\n",
    "router_name = prefix + 'Router'\n",
    "lease_name = prefix + 'Lease'"
   ]
  },
  {
   "cell_type": "code",
   "execution_count": null,
   "metadata": {},
   "outputs": [],
   "source": [
    "#Server attributes\n",
    "image_name='CC-Ubuntu18.04'\n",
    "node_type=\"compute_cascadelake_r\"\n",
    "server_count=3\n",
    "physical_network=\"physnet1\"\n",
    "subnet_cidr = '192.168.1.0/24'"
   ]
  },
  {
   "cell_type": "markdown",
   "metadata": {
    "id": "ENNFPkCsEe3G"
   },
   "source": [
    "#### Create the Network"
   ]
  },
  {
   "cell_type": "code",
   "execution_count": null,
   "metadata": {
    "id": "GEKv2QXkEe3H",
    "outputId": "9f5b63c6-4c5f-4e26-bb1a-981154e047d4"
   },
   "outputs": [],
   "source": [
    "# Create a network out of provider network physnet1\n",
    "network = chi.network.create_network(network_name, provider='physnet1')\n",
    "network_id = network['id']\n",
    "\n",
    "print(f'Network ID: {network_id}')"
   ]
  },
  {
   "cell_type": "markdown",
   "metadata": {
    "id": "OTOrxAPeEe3H"
   },
   "source": [
    "#### Configure the Network\n"
   ]
  },
  {
   "cell_type": "code",
   "execution_count": null,
   "metadata": {
    "id": "Rwwwv2cwEe3I",
    "outputId": "ccbdac9b-05e9-4a6e-834b-8e33ab16af6c"
   },
   "outputs": [],
   "source": [
    "subnet = chi.network.create_subnet(subnet_name, network_id, cidr=subnet_cidr, gateway_ip=None)\n",
    "router = chi.network.create_router(router_name, gw_network_name='public')\n",
    "chi.network.add_subnet_to_router(router['id'], subnet['id'])"
   ]
  },
  {
   "cell_type": "markdown",
   "metadata": {
    "id": "L1-Uzh35Ee3I"
   },
   "source": [
    "#### Create a lease with network and 3 servers"
   ]
  },
  {
   "cell_type": "code",
   "execution_count": null,
   "metadata": {
    "id": "DwLZKuJSEe3J",
    "outputId": "baed8a62-8ff9-4a08-b44f-9cdbdc33f3d7"
   },
   "outputs": [],
   "source": [
    "import chi.lease\n",
    "\n",
    "BLAZAR_TIME_FORMAT = '%Y-%m-%d %H:%M'\n",
    "\n",
    "# Set start/end date for lease\n",
    "# Start one minute into future to avoid Blazar thinking lease is in past\n",
    "# due to rounding to closest minute.\n",
    "start_date = (datetime.now(tz=tz.tzutc()) + timedelta(minutes=1)).strftime(BLAZAR_TIME_FORMAT)\n",
    "end_date   = (datetime.now(tz=tz.tzutc()) + timedelta(days=3)).strftime(BLAZAR_TIME_FORMAT)\n",
    "\n",
    "# Build list of reservations (in this case there is only one reservation)\n",
    "reservation_list = []\n",
    "chi.lease.add_node_reservation(reservation_list, count=server_count, node_type=node_type)\n",
    "chi.lease.add_fip_reservation(reservation_list, count=server_count)\n",
    "\n",
    "# Create the lease\n",
    "lease = chi.lease.create_lease(lease_name, \n",
    "                               start_date=start_date,\n",
    "                               end_date=end_date,\n",
    "                               reservations=reservation_list)\n",
    "\n",
    "lease_id = lease[\"id\"]\n",
    "\n",
    "chi.lease.wait_for_active(lease_id)"
   ]
  },
  {
   "cell_type": "markdown",
   "metadata": {
    "id": "gqE30vd5Ee3J"
   },
   "source": [
    "#### Get the Reservations"
   ]
  },
  {
   "cell_type": "code",
   "execution_count": null,
   "metadata": {
    "id": "oca0CbhdEe3K",
    "outputId": "c9e1a8f3-b1ce-4a5e-d31d-c0fb3093ca8c"
   },
   "outputs": [],
   "source": [
    "compute_reservation_id = [reservation for reservation in lease['reservations'] if reservation['resource_type'] == 'physical:host'][0]['id']\n",
    "floatingip_reservation_id = [reservation for reservation in lease['reservations'] if reservation['resource_type'] == 'virtual:floatingip'][0]['id']\n",
    "\n",
    "print(f\"compute_reservation_id: {compute_reservation_id}\")\n",
    "print(f\"floatingip_reservation_id: {floatingip_reservation_id}\")"
   ]
  },
  {
   "cell_type": "markdown",
   "metadata": {
    "id": "VpjvSj6JEe3K"
   },
   "source": [
    "#### Start the Server"
   ]
  },
  {
   "cell_type": "code",
   "execution_count": null,
   "metadata": {
    "id": "gsQjZx-lEe3K"
   },
   "outputs": [],
   "source": [
    "#create the server\n",
    "servers = []\n",
    "for i in range(server_count):\n",
    "    servers.append(chi.server.create_server(server_name+f\"-{i}\", \n",
    "                                  compute_reservation_id,\n",
    "                                  network_id=network_id,\n",
    "                                  nics=[{\"net-id\": network_id,\"v4-fixed-ip\": f\"192.168.1.1{i}\" }],\n",
    "                                  image_name=image_name,\n",
    "                                  count=1))\n"
   ]
  },
  {
   "cell_type": "markdown",
   "metadata": {
    "id": "YjUoB0NyFhiT"
   },
   "source": [
    "#### Associate the floating IPs"
   ]
  },
  {
   "cell_type": "code",
   "execution_count": null,
   "metadata": {
    "id": "lEocGeCFEe3L",
    "outputId": "d580bd06-09df-4b14-90b4-e8a7be4a69eb"
   },
   "outputs": [],
   "source": [
    "nodes = {}\n",
    "\n",
    "for j,i in enumerate(servers):\n",
    "    chi.server.wait_for_active(i.id)\n",
    "    floating_ip = chi.server.associate_floating_ip(i.id)\n",
    "    nodes[j] = floating_ip\n",
    "\n",
    "    print(f'Floating IP of node_{j}: {floating_ip}')"
   ]
  },
  {
   "cell_type": "markdown",
   "metadata": {},
   "source": [
    "#### Wait for SSH access to all servers"
   ]
  },
  {
   "cell_type": "code",
   "execution_count": null,
   "metadata": {},
   "outputs": [],
   "source": [
    "for node_ip in nodes.values():\n",
    "    chi.server.wait_for_tcp(node_ip, port=22)"
   ]
  },
  {
   "cell_type": "markdown",
   "metadata": {},
   "source": [
    "### Configuring the servers"
   ]
  },
  {
   "cell_type": "markdown",
   "metadata": {
    "id": "--YyW-mmFpXZ"
   },
   "source": [
    "#### Install keys for SSH access between all servers"
   ]
  },
  {
   "cell_type": "code",
   "execution_count": null,
   "metadata": {
    "id": "mKQLjk91Ee3L",
    "outputId": "1dccff17-499d-46dd-bdaa-b84d6ad2505c"
   },
   "outputs": [],
   "source": [
    "for node_ip in nodes.values():\n",
    "    remote = chi.ssh.Remote(node_ip)\n",
    "    remote.run('ssh-keygen -t rsa -b 4096 -f ~/.ssh/id_rsa -q -N \"\"')\n",
    "    public_key = remote.run('cat ~/.ssh/id_rsa.pub').tail(\"stdout\")[2:]\n",
    "    public_key = public_key.replace(\"\\n\", \"\")\n",
    "    for other_node_ip in nodes.values():\n",
    "        remote = chi.ssh.Remote(other_node_ip)\n",
    "        remote.run(f'echo {public_key} >> ~/.ssh/authorized_keys') "
   ]
  },
  {
   "cell_type": "markdown",
   "metadata": {
    "id": "B1UiOk3KGjPP"
   },
   "source": [
    "#### Store the IP address of each host\n",
    "\n",
    "When creating the cluster, we will need these addresses, which are assigned by DHCP and so are different each time."
   ]
  },
  {
   "cell_type": "code",
   "execution_count": null,
   "metadata": {
    "id": "eZh7X0yyEe3L",
    "outputId": "83d48e1e-9da8-4409-a3ce-8aec954db7c6"
   },
   "outputs": [],
   "source": [
    "physical_ips=[]\n",
    "for node_ip in nodes.values():\n",
    "    chi.server.wait_for_tcp(node_ip, port=22)\n",
    "    remote = chi.ssh.Remote(node_ip)\n",
    "    physical_ips.append(remote.run('hostname -I').tail(\"stdout\")[2:-1])"
   ]
  },
  {
   "cell_type": "markdown",
   "metadata": {
    "id": "C9kZz2Y1G4iv"
   },
   "source": [
    "#### Use Kubespray to prepare a Kubernetes cluster"
   ]
  },
  {
   "cell_type": "code",
   "execution_count": null,
   "metadata": {
    "id": "13QZJiqOEe3M",
    "outputId": "1102e6b3-e911-4760-e706-25f3a0b14d03"
   },
   "outputs": [],
   "source": [
    "ansible_node = nodes[0]\n",
    "remote = chi.ssh.Remote(ansible_node)\n",
    "remote.run(\"sudo apt install virtualenv\")\n",
    "remote.run(\"virtualenv -p python3 myenv\")\n",
    "remote.run(\"git clone https://github.com/kubernetes-sigs/kubespray.git\")\n",
    "remote.run(\"cd kubespray; git checkout release-2.16\")\n",
    "remote.run(\"source myenv/bin/activate; cd kubespray; pip3 install -r requirements.txt\")\n",
    "remote.run(\"cd kubespray; cp -rfp inventory/sample inventory/mycluster\")\n",
    "remote.run(\"rm -rf kubespray/contrib/inventory_builder/inventory.py\")\n",
    "remote.run(\"rm -rf kubespray/inventory/mycluster/group_vars/k8s_cluster/addons.yml\")\n",
    "remote.run(\"wget https://raw.githubusercontent.com/teaching-on-testbeds/k8s-ml/main/config/inventory.py -O kubespray/contrib/inventory_builder/inventory.py\")\n",
    "remote.run(\"wget https://raw.githubusercontent.com/teaching-on-testbeds/k8s-ml/main/config/addons.yml -O kubespray/inventory/mycluster/group_vars/k8s_cluster/addons.yml\")\n",
    "remote.run(f\"source myenv/bin/activate; declare -a IPS=({physical_ips[0]} {physical_ips[1]} {physical_ips[2]});\"+\"cd kubespray; CONFIG_FILE=inventory/mycluster/hosts.yaml python3 contrib/inventory_builder/inventory.py ${IPS[@]}\")"
   ]
  },
  {
   "cell_type": "code",
   "execution_count": null,
   "metadata": {},
   "outputs": [],
   "source": [
    "# need a specific versino of pyOpenSSL\n",
    "remote.run(\"source myenv/bin/activate; sudo rm -rf /usr/local/lib/python3.6/dist-packages/OpenSSL\")\n",
    "remote.run(\"source myenv/bin/activate; sudo rm -rf /usr/local/lib/python3.6/dist-packages/pyOpenSSL-22.1.0.dist-info/\")\n",
    "remote.run(\"source myenv/bin/activate; sudo pip3 install pyOpenSSL==22.0.0\")"
   ]
  },
  {
   "cell_type": "code",
   "execution_count": null,
   "metadata": {},
   "outputs": [],
   "source": [
    "remote.run(\"source myenv/bin/activate; cd kubespray; ansible-playbook -i inventory/mycluster/hosts.yaml  --become --become-user=root cluster.yml\")"
   ]
  },
  {
   "cell_type": "code",
   "execution_count": null,
   "metadata": {},
   "outputs": [],
   "source": [
    "# give cc user the kube config file\n",
    "remote.run(\"sudo cp -R /root/.kube /home/cc/.kube; sudo chown -R cc /home/cc/.kube; sudo chgrp -R cc /home/cc/.kube\")"
   ]
  },
  {
   "cell_type": "code",
   "execution_count": null,
   "metadata": {},
   "outputs": [],
   "source": [
    "# enable external access to the port on which we will deploy the service\n",
    "for i in nodes.keys():\n",
    "    remote = chi.ssh.Remote(nodes[i])\n",
    "    remote.run(\"sudo ufw allow 32000\")"
   ]
  },
  {
   "cell_type": "code",
   "execution_count": null,
   "metadata": {},
   "outputs": [],
   "source": [
    "# also make sure docker can run without sudo \n",
    "# start a new SSH session after changing group membership\n",
    "remote = chi.ssh.Remote(nodes[0])\n",
    "remote.run(\"sudo groupadd docker; sudo usermod -aG docker $USER\")\n",
    "remote = chi.ssh.Remote(nodes[0])"
   ]
  },
  {
   "cell_type": "code",
   "execution_count": null,
   "metadata": {},
   "outputs": [],
   "source": [
    "# copy docker configuration for private registry\n",
    "remote.run(\"docker run -d -p 5000:5000 --restart always --name registry registry:2\")\n",
    "remote.run(\"sudo wget https://raw.githubusercontent.com/teaching-on-testbeds/k8s-ml/main/config/daemon.json -O /etc/docker/daemon.json\")\n",
    "remote.run(\"sudo service docker restart\")"
   ]
  },
  {
   "cell_type": "markdown",
   "metadata": {},
   "source": [
    "#### Validate your setup"
   ]
  },
  {
   "cell_type": "markdown",
   "metadata": {},
   "source": [
    "Use the following command to validate your Kubernetes cluster with 3 servers:"
   ]
  },
  {
   "cell_type": "code",
   "execution_count": null,
   "metadata": {},
   "outputs": [],
   "source": [
    "remote.run(\"kubectl get nodes\")"
   ]
  },
  {
   "cell_type": "markdown",
   "metadata": {},
   "source": [
    "Also test the Docker install:"
   ]
  },
  {
   "cell_type": "code",
   "execution_count": null,
   "metadata": {},
   "outputs": [],
   "source": [
    "remote.run(\"docker run hello-world\")"
   ]
  },
  {
   "cell_type": "markdown",
   "metadata": {
    "id": "HJba1312Ee3N"
   },
   "source": [
    "# Delete resources"
   ]
  },
  {
   "cell_type": "markdown",
   "metadata": {},
   "source": [
    "### Delete server"
   ]
  },
  {
   "cell_type": "code",
   "execution_count": null,
   "metadata": {
    "id": "NjkFtysPEe3N"
   },
   "outputs": [],
   "source": [
    "if True: \n",
    "    for i in servers:\n",
    "      chi.server.delete_server(i.id)"
   ]
  },
  {
   "cell_type": "markdown",
   "metadata": {
    "id": "FbO2kT5IEe3O"
   },
   "source": [
    "#### De-configure Network\n",
    "\n"
   ]
  },
  {
   "cell_type": "code",
   "execution_count": null,
   "metadata": {
    "id": "AaxiPcEBEe3O"
   },
   "outputs": [],
   "source": [
    "router_id = router['id']\n",
    "subnet_id = subnet['id']\n",
    "\n",
    "try:\n",
    "    result = chi.network.remove_subnet_from_router(router_id, subnet_id)\n",
    "except Exception as e:\n",
    "    print(f\"detach_router_by_name error: {str(e)}\")\n",
    "    pass\n",
    "\n",
    "try:\n",
    "    result = chi.network.delete_router(router_id)\n",
    "except Exception as e:\n",
    "    print(f\"delete_router_by_name error: {str(e)}\")\n",
    "    pass\n",
    "\n",
    "try:\n",
    "    result = chi.network.delete_subnet(subnet_id)\n",
    "except Exception as e:\n",
    "    print(f\"delete_subnet_by_name error: {str(e)}\")\n",
    "    pass\n",
    "\n",
    "try:\n",
    "    result = chi.network.delete_network(network_id)\n",
    "except Exception as e:\n",
    "    print(f\"delete_network_by_name error: {str(e)}\")\n",
    "    pass\n"
   ]
  },
  {
   "cell_type": "markdown",
   "metadata": {
    "id": "J69oaqFtEe3O"
   },
   "source": [
    "#### Release Lease"
   ]
  },
  {
   "cell_type": "code",
   "execution_count": null,
   "metadata": {
    "id": "k2MjemHiEe3O"
   },
   "outputs": [],
   "source": [
    "chi.lease.delete_lease(lease_id)"
   ]
  },
  {
   "cell_type": "code",
   "execution_count": null,
   "metadata": {},
   "outputs": [],
   "source": []
  }
 ],
 "metadata": {
  "colab": {
   "provenance": []
  },
  "kernelspec": {
   "display_name": "Python 3 (ipykernel)",
   "language": "python",
   "name": "python3"
  },
  "language_info": {
   "codemirror_mode": {
    "name": "ipython",
    "version": 3
   },
   "file_extension": ".py",
   "mimetype": "text/x-python",
   "name": "python",
   "nbconvert_exporter": "python",
   "pygments_lexer": "ipython3",
   "version": "3.10.9"
  }
 },
 "nbformat": 4,
 "nbformat_minor": 4
}
