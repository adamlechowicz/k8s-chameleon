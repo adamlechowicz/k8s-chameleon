{
  "cells": [
    {
      "cell_type": "markdown",
      "metadata": {
        "id": "tp6qSlR-Ee3A"
      },
      "source": [
        "## Tutorial: "
      ]
    },
    {
      "cell_type": "markdown",
      "metadata": {
        "id": "SQ9zonoEEe3E"
      },
      "source": [
        "### Configure the Environment"
      ]
    },
    {
      "cell_type": "code",
      "execution_count": null,
      "metadata": {
        "id": "HmCcoEUoEe3F",
        "outputId": "cf7dd8bf-d4bb-4bc0-8277-8146c59d91a0"
      },
      "outputs": [
        {
          "name": "stdout",
          "output_type": "stream",
          "text": [
            "Now using CHI@UC:\n",
            "URL: https://chi.uc.chameleoncloud.org\n",
            "Location: Argonne National Laboratory, Lemont, Illinois, USA\n",
            "Support contact: help@chameleoncloud.org\n"
          ]
        }
      ],
      "source": [
        "import json\n",
        "import os\n",
        "import chi,chi.ssh\n",
        "from datetime import datetime, timedelta\n",
        "from dateutil import tz\n",
        "\n",
        "import chi\n",
        "\n",
        "#Config with your project and site\n",
        "chi.use_site('CHI@UC')\n",
        "chi.set('project_name', 'CHI-231095')\n",
        "\n",
        "# Tip: Name resources with your username for easier identification\n",
        "username = os.getenv(\"USER\")\n",
        "prefix = username + \"_k8s_ml_\"\n",
        "server_name = prefix + 'Server'\n",
        "network_name = prefix + 'Net'\n",
        "subnet_name = prefix + 'Subnet'\n",
        "router_name = prefix + 'Router'\n",
        "lease_name = prefix + 'Lease'\n",
        "\n",
        "#Server attributes\n",
        "image_name='CC-Ubuntu20.04'\n",
        "node_type=\"compute_cascadelake_r\"\n",
        "server_count=3\n",
        "physical_network=\"physnet1\"\n",
        "subnet_cidr = '192.168.1.0/24'\n"
      ]
    },
    {
      "cell_type": "markdown",
      "metadata": {
        "id": "ENNFPkCsEe3G"
      },
      "source": [
        "### Isolated Network\n",
        "\n",
        "#### Create the Network"
      ]
    },
    {
      "cell_type": "code",
      "execution_count": null,
      "metadata": {
        "id": "GEKv2QXkEe3H",
        "outputId": "9f5b63c6-4c5f-4e26-bb1a-981154e047d4"
      },
      "outputs": [
        {
          "name": "stdout",
          "output_type": "stream",
          "text": [
            "Network ID: fb495a06-ff0b-41f9-ac23-54c47a264991\n"
          ]
        }
      ],
      "source": [
        "import chi.network\n",
        "\n",
        "# Create a network out of provider network physnet1\n",
        "network = chi.network.create_network(network_name, provider='physnet1')\n",
        "network_id = network['id']\n",
        "\n",
        "print(f'Network ID: {network_id}')"
      ]
    },
    {
      "cell_type": "markdown",
      "metadata": {
        "id": "OTOrxAPeEe3H"
      },
      "source": [
        "#### Configure the Network\n"
      ]
    },
    {
      "cell_type": "code",
      "execution_count": null,
      "metadata": {
        "id": "Rwwwv2cwEe3I",
        "outputId": "ccbdac9b-05e9-4a6e-834b-8e33ab16af6c"
      },
      "outputs": [
        {
          "data": {
            "text/plain": [
              "{'id': '7b1c0e0f-e14b-4715-bad8-4d3a5cd23118',\n",
              " 'tenant_id': 'cb970a4b0f2e42c9b1b3f9015d02f8a5',\n",
              " 'port_id': 'deececf9-a233-4c0a-9f4c-f071f791720d',\n",
              " 'network_id': 'fb495a06-ff0b-41f9-ac23-54c47a264991',\n",
              " 'subnet_id': '0d82ffe0-67a3-4e41-91c4-76936dc42cfd',\n",
              " 'subnet_ids': ['0d82ffe0-67a3-4e41-91c4-76936dc42cfd']}"
            ]
          },
          "execution_count": 3,
          "metadata": {},
          "output_type": "execute_result"
        }
      ],
      "source": [
        "subnet = chi.network.create_subnet(subnet_name, network_id, cidr=subnet_cidr, gateway_ip=None)\n",
        "router = chi.network.create_router(router_name, gw_network_name='public')\n",
        "chi.network.add_subnet_to_router(router['id'], subnet['id'])"
      ]
    },
    {
      "cell_type": "markdown",
      "metadata": {
        "id": "L1-Uzh35Ee3I"
      },
      "source": [
        "### Servers on the Network\n",
        "\n",
        "\n",
        "\n",
        "#### Create a Lease"
      ]
    },
    {
      "cell_type": "code",
      "execution_count": null,
      "metadata": {
        "id": "DwLZKuJSEe3J",
        "outputId": "baed8a62-8ff9-4a08-b44f-9cdbdc33f3d7"
      },
      "outputs": [
        {
          "data": {
            "text/plain": [
              "{'created_at': '2023-04-29 18:22:47',\n",
              " 'updated_at': '2023-04-29 18:23:09',\n",
              " 'id': 'f13fceb5-b470-4430-8571-b8959d917f33',\n",
              " 'name': 'cp3793_nyu_edu_k8s_ml_Lease',\n",
              " 'user_id': '50de6f77f6d1941774ecf322c9f0ad2a3e2c128f4707c3278d98fd4a98b86d85',\n",
              " 'project_id': 'cb970a4b0f2e42c9b1b3f9015d02f8a5',\n",
              " 'start_date': '2023-04-29T18:23:00.000000',\n",
              " 'end_date': '2023-05-06T18:22:00.000000',\n",
              " 'trust_id': 'e930d5ae9ae4497c974adbd43af8adbb',\n",
              " 'status': 'ACTIVE',\n",
              " 'degraded': False,\n",
              " 'reservations': [{'created_at': '2023-04-29 18:22:48',\n",
              "   'updated_at': '2023-04-29 18:23:06',\n",
              "   'id': '7971a349-c1f5-404b-941f-b7d02003fb0d',\n",
              "   'lease_id': 'f13fceb5-b470-4430-8571-b8959d917f33',\n",
              "   'resource_id': '5ed7beff-d244-48c2-929c-da5781a5c61f',\n",
              "   'resource_type': 'virtual:floatingip',\n",
              "   'status': 'active',\n",
              "   'missing_resources': False,\n",
              "   'resources_changed': False,\n",
              "   'network_id': '44b38c44-2a42-4b6d-b129-6c8f1b2a1375',\n",
              "   'amount': 3,\n",
              "   'required_floatingips': []},\n",
              "  {'created_at': '2023-04-29 18:22:47',\n",
              "   'updated_at': '2023-04-29 18:23:09',\n",
              "   'id': 'a32bca2b-8486-49ef-a91a-22095092b0ef',\n",
              "   'lease_id': 'f13fceb5-b470-4430-8571-b8959d917f33',\n",
              "   'resource_id': '2d67b164-277a-4bbb-9290-1e8a011f2fef',\n",
              "   'resource_type': 'physical:host',\n",
              "   'status': 'active',\n",
              "   'missing_resources': False,\n",
              "   'resources_changed': False,\n",
              "   'hypervisor_properties': '',\n",
              "   'resource_properties': '[\"==\", \"$node_type\", \"compute_cascadelake_r\"]',\n",
              "   'before_end': 'default',\n",
              "   'on_start': 'default',\n",
              "   'min': 3,\n",
              "   'max': 3}],\n",
              " 'events': [{'created_at': '2023-04-29 18:22:49',\n",
              "   'updated_at': None,\n",
              "   'id': '3041d458-108b-45d7-9608-ce4c77c7b721',\n",
              "   'lease_id': 'f13fceb5-b470-4430-8571-b8959d917f33',\n",
              "   'event_type': 'end_lease',\n",
              "   'time': '2023-05-06T18:22:00.000000',\n",
              "   'status': 'UNDONE'},\n",
              "  {'created_at': '2023-04-29 18:22:49',\n",
              "   'updated_at': None,\n",
              "   'id': '6043486d-5e56-49b2-bf94-9ac38e4466eb',\n",
              "   'lease_id': 'f13fceb5-b470-4430-8571-b8959d917f33',\n",
              "   'event_type': 'before_end_lease',\n",
              "   'time': '2023-05-04T18:22:00.000000',\n",
              "   'status': 'UNDONE'},\n",
              "  {'created_at': '2023-04-29 18:22:49',\n",
              "   'updated_at': '2023-04-29 18:23:09',\n",
              "   'id': 'a1d6b599-bfe6-45a8-9347-e2fa58aacb44',\n",
              "   'lease_id': 'f13fceb5-b470-4430-8571-b8959d917f33',\n",
              "   'event_type': 'start_lease',\n",
              "   'time': '2023-04-29T18:23:00.000000',\n",
              "   'status': 'DONE'}]}"
            ]
          },
          "execution_count": 4,
          "metadata": {},
          "output_type": "execute_result"
        }
      ],
      "source": [
        "import chi.lease\n",
        "\n",
        "BLAZAR_TIME_FORMAT = '%Y-%m-%d %H:%M'\n",
        "\n",
        "# Set start/end date for lease\n",
        "# Start one minute into future to avoid Blazar thinking lease is in past\n",
        "# due to rounding to closest minute.\n",
        "start_date = (datetime.now(tz=tz.tzutc()) + timedelta(minutes=1)).strftime(BLAZAR_TIME_FORMAT)\n",
        "end_date   = (datetime.now(tz=tz.tzutc()) + timedelta(days=7)).strftime(BLAZAR_TIME_FORMAT)\n",
        "\n",
        "# Build list of reservations (in this case there is only one reservation)\n",
        "reservation_list = []\n",
        "chi.lease.add_node_reservation(reservation_list, count=server_count, node_type=node_type)\n",
        "chi.lease.add_fip_reservation(reservation_list, count=server_count)\n",
        "\n",
        "# Create the lease\n",
        "lease = chi.lease.create_lease(lease_name, \n",
        "                               start_date=start_date,\n",
        "                               end_date=end_date,\n",
        "                               reservations=reservation_list)\n",
        "\n",
        "lease_id = lease[\"id\"]\n",
        "\n",
        "chi.lease.wait_for_active(lease_id)"
      ]
    },
    {
      "cell_type": "markdown",
      "metadata": {
        "id": "gqE30vd5Ee3J"
      },
      "source": [
        "#### Get the Reservations"
      ]
    },
    {
      "cell_type": "code",
      "execution_count": null,
      "metadata": {
        "id": "oca0CbhdEe3K",
        "outputId": "c9e1a8f3-b1ce-4a5e-d31d-c0fb3093ca8c"
      },
      "outputs": [
        {
          "name": "stdout",
          "output_type": "stream",
          "text": [
            "compute_reservation_id: a32bca2b-8486-49ef-a91a-22095092b0ef\n",
            "floatingip_reservation_id: 7971a349-c1f5-404b-941f-b7d02003fb0d\n"
          ]
        }
      ],
      "source": [
        "compute_reservation_id = [reservation for reservation in lease['reservations'] if reservation['resource_type'] == 'physical:host'][0]['id']\n",
        "floatingip_reservation_id = [reservation for reservation in lease['reservations'] if reservation['resource_type'] == 'virtual:floatingip'][0]['id']\n",
        "\n",
        "print(f\"compute_reservation_id: {compute_reservation_id}\")\n",
        "print(f\"floatingip_reservation_id: {floatingip_reservation_id}\")"
      ]
    },
    {
      "cell_type": "markdown",
      "metadata": {
        "id": "VpjvSj6JEe3K"
      },
      "source": [
        "#### Start the Server\n",
        "\n",
        "The `create_server` method won't work until your lease is active! Verify your lease is active by going to __Reservations__ > __Leases__ in your Chameleon project, and checking that the lease with your name has the status _ACTIVE_.\n",
        "\n",
        "Don't worry if you ran it too early and your server (in __Compute__ > __Instances__) has the _Error_ status -- if this happens, you can just delete your instance using the Chameleon interface and run this cell again."
      ]
    },
    {
      "cell_type": "code",
      "execution_count": null,
      "metadata": {
        "id": "gsQjZx-lEe3K"
      },
      "outputs": [],
      "source": [
        "#create the server\n",
        "server = chi.server.create_server(server_name, \n",
        "                                  compute_reservation_id,\n",
        "                                  network_id=network_id,\n",
        "                                  nics=[],\n",
        "                                  image_name=image_name,\n",
        "                                  count=3)\n"
      ]
    },
    {
      "cell_type": "markdown",
      "metadata": {
        "id": "YjUoB0NyFhiT"
      },
      "source": [
        "#### Associate the Floating IP\n"
      ]
    },
    {
      "cell_type": "code",
      "execution_count": null,
      "metadata": {
        "id": "lEocGeCFEe3L",
        "outputId": "d580bd06-09df-4b14-90b4-e8a7be4a69eb"
      },
      "outputs": [
        {
          "name": "stdout",
          "output_type": "stream",
          "text": [
            "Floating IP of node_0: 192.5.86.235\n",
            "Floating IP of node_1: 192.5.87.228\n",
            "Floating IP of node_2: 192.5.87.183\n"
          ]
        }
      ],
      "source": [
        "nodes = {}\n",
        "\n",
        "for j,i in enumerate(server):\n",
        "    chi.server.wait_for_active(i.id)\n",
        "    floating_ip = chi.server.associate_floating_ip(i.id)\n",
        "    nodes[j] = floating_ip\n",
        "\n",
        "    print(f'Floating IP of node_{j}: {floating_ip}')"
      ]
    },
    {
      "cell_type": "markdown",
      "source": [
        "#### Generate ssh key for each host"
      ],
      "metadata": {
        "id": "--YyW-mmFpXZ"
      }
    },
    {
      "cell_type": "code",
      "execution_count": null,
      "metadata": {
        "id": "mKQLjk91Ee3L",
        "outputId": "1dccff17-499d-46dd-bdaa-b84d6ad2505c"
      },
      "outputs": [
        {
          "name": "stderr",
          "output_type": "stream",
          "text": [
            "/opt/conda/lib/python3.10/site-packages/paramiko/client.py:835: UserWarning: Unknown ssh-ed25519 host key for 192.5.86.235: b'd417e5f99e05882001a05dd0d5013ea5'\n",
            "  warnings.warn(\n",
            "/opt/conda/lib/python3.10/site-packages/paramiko/client.py:835: UserWarning: Unknown ssh-ed25519 host key for 192.5.87.228: b'e2951c7952be44fb67a38199ec2ad2ed'\n",
            "  warnings.warn(\n",
            "/opt/conda/lib/python3.10/site-packages/paramiko/client.py:835: UserWarning: Unknown ssh-ed25519 host key for 192.5.87.183: b'274d1ee82d96139a266845eebc76c6cd'\n",
            "  warnings.warn(\n"
          ]
        }
      ],
      "source": [
        "import chi, chi.ssh\n",
        "for node_ip in nodes.values():\n",
        "    chi.server.wait_for_tcp(node_ip, port=22)\n",
        "    remote = chi.ssh.Remote(node_ip)\n",
        "    remote.run('ssh-keygen -t rsa -b 4096 -f ~/.ssh/id_rsa -q -N \"\"')"
      ]
    },
    {
      "cell_type": "markdown",
      "source": [
        "#### Key Transfer\n",
        "Add each hosts public key to the authorized_keys file located in ~/.ssh folder in every host to make sure that all the hosts are able to ssh into each other."
      ],
      "metadata": {
        "id": "VVwoE2xuF10O"
      }
    },
    {
      "cell_type": "code",
      "execution_count": null,
      "metadata": {
        "id": "ug6kU9o3Ee3L",
        "outputId": "c3b9ea26-e71b-4078-fd9c-0677f959f32c"
      },
      "outputs": [
        {
          "name": "stdout",
          "output_type": "stream",
          "text": [
            "ssh-rsa AAAAB3NzaC1yc2EAAAADAQABAAACAQC7Xn1CXX6/EeFrjw38+WzJ+JBVZhuq1R3lhaNt7uacjax88LO9SVtZPo7vBZgjRN4N7IHjOgWhJnuZR4C3sLWyTnJqT6r4S45rQdBquDdmmJJY/K73kLrN+R3bwpMrM1kXbVgowv6ZSS5vHItZPQXH6gKsJEiSCv+gU2cajtLRxqMwmT5vYpbIpul8iXsn1O+JWrz0h9wwtiuThe9aQ/piMY0gJfkWSHinE+9DM1/NaITxQ4qzVvnSa/pW4bURb7Do8CZ0BjUwnJnK9mLJniqdAinxGupxekSfD6Rg3bIul28pNCj8Cyeejdv1Y6uxDHWGPkqKpHz42C87N/3Bh9xw3yZ6YEHPKq+yOKiKcY2nlPanKDw/r0N6zLYk6WY1ITE6DKo4iqTEnh1hb5dWZqxhGcP+UUUjO6yqBsBSr5mVxyzPY9e6NZujxcCso2fBfL0iWoyKTeQ16WVFqzViezVbO2mh/6z7PklGkZwNce6cRSi3B91gfhk+FpGC3vW64Euu8GUv9zg5DXES5Pwd5o5bDL5wHAz/NP5tzVYu2jHx5b8vk05OI6PRjzS9iuxFbYLVtKgBLyw4/6Gk+JC+Ue1ZJex4vH1ZWcS7EZrmnFk0Qhhc8+91ibW1GeX5BP8a+HsGO6sIZnPZv1W9iDrxBlwN41X0HplI/iyMQGt2uFPbLQ== cc@cp3793-nyu-edu-k8s-ml-server-3\n",
            "ssh-rsa AAAAB3NzaC1yc2EAAAADAQABAAACAQC6IoU6e7/wtokQ9MeLYHM+kYpipB/vCVRlmEVcSYetwb4WC0eCHEoqr9LTlztM1YjZYNU2O5oSLz66T4j8KprgiwftEwwMwGg3orwLJaoqEXUBiK0cIrVMoJZBIksSP2qo47zF2PHYucRAS1Y6s40fpte0WaGXL0rOAP2WX80frLqO9U8yvVRj7EKGdo+kz7uUUUpz0OmLKC5Ss4NGNaovM1OZvWizAVXIlyj4NJVbcz+pGd3VBx/FgHb+5pgbT1mBSRg1m4FYvkn8J5ZGOE4ecaEixnH8UCTyC4vCWHibqvTs+bor3tvlo9vKjpdeK9WHhreHN3gQArRvv+OFN+RMHcnMhzkNGJ2L1gTouZdzDe/2eQZT+wxyX6kxWtb+Ic3j4g45PlwTHAA6sx2PP0/ivDIJRd6I01dzETsBWGyFvvXcYlmfwl4VIPfeOQQQ3Pcg77hDJjv8Dt2T7TgfQ6PyFEpKxE0TSWo+GdxubTwaIPY97NcVj9YM2i8Z08nMwq+YF7iyrSFUrdPqTJclNUVtOo3CrZCkGYqSp+pV8X3ioM7T0ItkkHRXbj8vl/PCKZOuyhgeJiRBTf7ZWdz107D4v5JfvMNn2U2gZP5mbGOc2HT9cMytbgEmIvmjGpd3EskewOrc82EfRtlRVuahCHVNKKHHVZhcikeCgo8Vl/BS/Q== cc@cp3793-nyu-edu-k8s-ml-server-2\n",
            "ssh-rsa AAAAB3NzaC1yc2EAAAADAQABAAACAQCq0KrA6VwwpCE6EpLjKvsav7Rek0+gu4Et8pHgDoPQVcTyW06Plf9VN9hyDGmkGNO+I85xzDlBvn6VuP9tvpEG9vslEjh5VrLRzCwmNdEyJEqwViVblOcCnp81qAoDNjohKZsQlYjhcPGVlBflsP4JfkYmt7eG6ri00ilcwgV0eYIanPL1Qa5LuCla+7bSZiK3qG0Itg8KwWKj5eGWo9Eo6SFON6njcT56ZV7SDSkP31L7DaDVLQvnyXnFOkYKA/awRKYE1QuQ9fm1PuMUNGlCtg3EFD2+dwQ3SHdiG1M6EAd1XrVGQte0+mx92vFQ0ER1b0ys+NnuKNNONHQyROVJZwYn3uf78so4/n6LtgsaYebctZ7RAOvoTJBsz72+EO+wjEj+UTeKF3LKJoaREWXfh5TRpMcjvcHDPADuZnpVlTD2McCmMmR06knfk+BK3NJP3bQgQoTlGaumqdnodeqLOtEu2bIKMPSo6HUhzTH0SHkezXd8aZRPEq2FjzN+kkCQeHWUkQ5hGsTaYeD30It0vYJ6WUSxhnvhlee7O6XPGZ/Wa0bTD3ejz48aqODET0fP+5SNcZ4cTXHbJx+DJjQPSFY5Zek27YHcS4wIWzi1sRR5Qqx4Xp52PW/FHfzb6ClFB4kpqxmLyqlmnyKOh1TUvujVpyDV3zEidsTySa92uQ== cc@cp3793-nyu-edu-k8s-ml-server-1\n"
          ]
        }
      ],
      "source": [
        "for node_ip in nodes.values():\n",
        "    chi.server.wait_for_tcp(node_ip, port=22)\n",
        "    remote = chi.ssh.Remote(node_ip)\n",
        "    public_key = remote.run('cat ~/.ssh/id_rsa.pub').tail(\"stdout\")[2:]\n",
        "    public_key = public_key.replace(\"\\n\", \"\")\n",
        "    for node_ip in nodes.values():\n",
        "        remote = chi.ssh.Remote(node_ip)\n",
        "        remote.run(f'echo {public_key} >> ~/.ssh/authorized_keys') "
      ]
    },
    {
      "cell_type": "markdown",
      "source": [
        "#### Store the physical ip of each host\n",
        "During the process of creating the cluster we will be needing the physical ips of each host so this will be usefull."
      ],
      "metadata": {
        "id": "B1UiOk3KGjPP"
      }
    },
    {
      "cell_type": "code",
      "execution_count": null,
      "metadata": {
        "id": "eZh7X0yyEe3L",
        "outputId": "83d48e1e-9da8-4409-a3ce-8aec954db7c6"
      },
      "outputs": [
        {
          "name": "stdout",
          "output_type": "stream",
          "text": [
            "192.168.1.15 \n",
            "192.168.1.215 \n",
            "192.168.1.101 \n"
          ]
        }
      ],
      "source": [
        "physical_ips=[]\n",
        "for node_ip in nodes.values():\n",
        "    chi.server.wait_for_tcp(node_ip, port=22)\n",
        "    remote = chi.ssh.Remote(node_ip)\n",
        "    physical_ips.append(remote.run('hostname -I').tail(\"stdout\")[2:-1])"
      ]
    },
    {
      "cell_type": "markdown",
      "source": [
        "#### setting up the cluster"
      ],
      "metadata": {
        "id": "C9kZz2Y1G4iv"
      }
    },
    {
      "cell_type": "code",
      "execution_count": null,
      "metadata": {
        "id": "13QZJiqOEe3M",
        "outputId": "1102e6b3-e911-4760-e706-25f3a0b14d03"
      },
      "outputs": [
        {
          "name": "stderr",
          "output_type": "stream",
          "text": [
            "Cloning into 'kubespray'...\n"
          ]
        },
        {
          "name": "stdout",
          "output_type": "stream",
          "text": [
            "Branch 'release-2.16' set up to track remote branch 'release-2.16' from 'origin'.\n"
          ]
        },
        {
          "name": "stderr",
          "output_type": "stream",
          "text": [
            "Switched to a new branch 'release-2.16'\n"
          ]
        },
        {
          "name": "stdout",
          "output_type": "stream",
          "text": [
            "Collecting ansible==2.9.20\n",
            "  Downloading ansible-2.9.20.tar.gz (14.3 MB)\n",
            "Requirement already satisfied: cryptography==2.8 in /usr/lib/python3/dist-packages (from -r requirements.txt (line 2)) (2.8)\n",
            "Collecting jinja2==2.11.3\n",
            "  Downloading Jinja2-2.11.3-py2.py3-none-any.whl (125 kB)\n",
            "Requirement already satisfied: netaddr==0.7.19 in /usr/lib/python3/dist-packages (from -r requirements.txt (line 4)) (0.7.19)\n",
            "Collecting pbr==5.4.4\n",
            "  Downloading pbr-5.4.4-py2.py3-none-any.whl (110 kB)\n",
            "Collecting jmespath==0.9.5\n",
            "  Downloading jmespath-0.9.5-py2.py3-none-any.whl (24 kB)\n",
            "Collecting ruamel.yaml==0.16.10\n",
            "  Downloading ruamel.yaml-0.16.10-py2.py3-none-any.whl (111 kB)\n",
            "Collecting MarkupSafe==1.1.1\n",
            "  Downloading MarkupSafe-1.1.1-cp38-cp38-manylinux2010_x86_64.whl (32 kB)\n",
            "Requirement already satisfied: PyYAML in /usr/lib/python3/dist-packages (from ansible==2.9.20->-r requirements.txt (line 1)) (5.3.1)\n",
            "Collecting ruamel.yaml.clib>=0.1.2; platform_python_implementation == \"CPython\" and python_version < \"3.9\"\n",
            "  Downloading ruamel.yaml.clib-0.2.7-cp38-cp38-manylinux_2_17_x86_64.manylinux2014_x86_64.manylinux_2_24_x86_64.whl (555 kB)\n",
            "Building wheels for collected packages: ansible\n",
            "  Building wheel for ansible (setup.py): started\n",
            "  Building wheel for ansible (setup.py): finished with status 'done'\n",
            "  Created wheel for ansible: filename=ansible-2.9.20-py3-none-any.whl size=16203441 sha256=dfd0000f7357960de2477700554841dfa77da82219e1d4aa212d0760b72e2c73\n",
            "  Stored in directory: /root/.cache/pip/wheels/61/a8/07/9b4017c5cbc3e015ecb6cbc5b37aa974cb485cae9d46bc6728\n",
            "Successfully built ansible\n",
            "Installing collected packages: MarkupSafe, jinja2, ansible, pbr, jmespath, ruamel.yaml.clib, ruamel.yaml\n",
            "  Attempting uninstall: MarkupSafe\n",
            "    Found existing installation: MarkupSafe 1.1.0\n",
            "    Not uninstalling markupsafe at /usr/lib/python3/dist-packages, outside environment /usr\n",
            "    Can't uninstall 'MarkupSafe'. No files were found to uninstall.\n",
            "  Attempting uninstall: jinja2\n",
            "    Found existing installation: Jinja2 2.10.1\n",
            "    Not uninstalling jinja2 at /usr/lib/python3/dist-packages, outside environment /usr\n",
            "    Can't uninstall 'Jinja2'. No files were found to uninstall.\n",
            "  Attempting uninstall: ansible\n",
            "    Found existing installation: ansible 2.9.6\n",
            "    Not uninstalling ansible at /usr/lib/python3/dist-packages, outside environment /usr\n",
            "    Can't uninstall 'ansible'. No files were found to uninstall.\n",
            "  Attempting uninstall: pbr\n",
            "    Found existing installation: pbr 5.4.5\n",
            "    Not uninstalling pbr at /usr/lib/python3/dist-packages, outside environment /usr\n",
            "    Can't uninstall 'pbr'. No files were found to uninstall.\n",
            "  Attempting uninstall: jmespath\n",
            "    Found existing installation: jmespath 0.9.4\n",
            "    Not uninstalling jmespath at /usr/lib/python3/dist-packages, outside environment /usr\n",
            "    Can't uninstall 'jmespath'. No files were found to uninstall.\n",
            "Successfully installed MarkupSafe-1.1.1 ansible-2.9.20 jinja2-2.11.3 jmespath-0.9.5 pbr-5.4.4 ruamel.yaml-0.16.10 ruamel.yaml.clib-0.2.7\n",
            "DEBUG: Adding group all\n",
            "DEBUG: Adding group kube_control_plane\n",
            "DEBUG: Adding group kube_node\n",
            "DEBUG: Adding group etcd\n",
            "DEBUG: Adding group k8s_cluster\n",
            "DEBUG: Adding group calico_rr\n",
            "Usage: inventory.py ip1 [ip2 ...]\n",
            "Examples: inventory.py 10.10.1.3 10.10.1.4 10.10.1.5\n",
            "\n",
            "Available commands:\n",
            "help - Display this message\n",
            "print_cfg - Write inventory file to stdout\n",
            "print_ips - Write a space-delimited list of IPs from \"all\" group\n",
            "print_hostnames - Write a space-delimited list of Hostnames from \"all\" group\n",
            "\n",
            "Advanced usage:\n",
            "Add another host after initial creation: inventory.py 10.10.1.5\n",
            "Add range of hosts: inventory.py 10.10.1.3-10.10.1.5\n",
            "Add hosts with different ip and access ip: inventory.py 10.0.0.1,192.168.10.1 10.0.0.2,192.168.10.2 10.0.0.3,192.168.10.3\n",
            "Add hosts with a specific hostname, ip, and optional access ip: first,10.0.0.1,192.168.10.1 second,10.0.0.2 last,10.0.0.3\n",
            "Delete a host: inventory.py -10.10.1.3\n",
            "Delete a host by id: inventory.py -node1\n",
            "\n",
            "Configurable env vars:\n",
            "DEBUG                   Enable debug printing. Default: True\n",
            "CONFIG_FILE             File to write config to Default: ./inventory/sample/hosts.yaml\n",
            "HOST_PREFIX             Host prefix for generated hosts. Default: node\n",
            "KUBE_CONTROL_HOSTS      Set the number of kube-control-planes. Default: 2\n",
            "SCALE_THRESHOLD         Separate ETCD role if # of nodes >= 50\n",
            "MASSIVE_SCALE_THRESHOLD Separate K8s control-plane and ETCD if # of nodes >= 200\n",
            "\n"
          ]
        },
        {
          "data": {
            "text/plain": [
              "<Result cmd='cd kubespray; CONFIG_FILE=inventory/mycluster/hosts.yaml python3 contrib/inventory_builder/inventory.py ${IPS[@]}' exited=0>"
            ]
          },
          "execution_count": 19,
          "metadata": {},
          "output_type": "execute_result"
        }
      ],
      "source": [
        "ansible_node = nodes[1]\n",
        "remote = chi.ssh.Remote(ansible_node)\n",
        "remote.run(\"git clone https://github.com/kubernetes-sigs/kubespray.git\")\n",
        "remote.run(\"cd kubespray; git checkout release-2.16\")\n",
        "remote.run(\"cd kubespray; sudo pip3 install -r requirements.txt\")\n",
        "remote.run(\"cd kubespray; cp -rfp inventory/sample inventory/mycluster\")\n",
        "remote.run(f\"declare -a IPS=({physical_ips[0]} {physical_ips[1]} {physical_ips[2]});\"+\"cd kubespray; CONFIG_FILE=inventory/mycluster/hosts.yaml python3 contrib/inventory_builder/inventory.py ${IPS[@]}\")"
      ]
    },
    {
      "cell_type": "markdown",
      "metadata": {
        "id": "HJba1312Ee3N"
      },
      "source": [
        "#### Delete Server"
      ]
    },
    {
      "cell_type": "code",
      "execution_count": null,
      "metadata": {
        "id": "NjkFtysPEe3N"
      },
      "outputs": [],
      "source": [
        "for i in server:\n",
        "  chi.server.delete_server(i.id)"
      ]
    },
    {
      "cell_type": "markdown",
      "metadata": {
        "id": "FbO2kT5IEe3O"
      },
      "source": [
        "#### De-configure Network\n",
        "\n"
      ]
    },
    {
      "cell_type": "code",
      "execution_count": null,
      "metadata": {
        "id": "AaxiPcEBEe3O"
      },
      "outputs": [],
      "source": [
        "router_id = router['id']\n",
        "subnet_id = subnet['id']\n",
        "\n",
        "try:\n",
        "    result = chi.network.remove_subnet_from_router(router_id, subnet_id)\n",
        "except Exception as e:\n",
        "    print(f\"detach_router_by_name error: {str(e)}\")\n",
        "    pass\n",
        "\n",
        "try:\n",
        "    result = chi.network.delete_router(router_id)\n",
        "except Exception as e:\n",
        "    print(f\"delete_router_by_name error: {str(e)}\")\n",
        "    pass\n",
        "\n",
        "try:\n",
        "    result = chi.network.delete_subnet(subnet_id)\n",
        "except Exception as e:\n",
        "    print(f\"delete_subnet_by_name error: {str(e)}\")\n",
        "    pass\n",
        "\n",
        "try:\n",
        "    result = chi.network.delete_network(network_id)\n",
        "except Exception as e:\n",
        "    print(f\"delete_network_by_name error: {str(e)}\")\n",
        "    pass\n"
      ]
    },
    {
      "cell_type": "markdown",
      "metadata": {
        "id": "J69oaqFtEe3O"
      },
      "source": [
        "#### Release Lease"
      ]
    },
    {
      "cell_type": "code",
      "execution_count": null,
      "metadata": {
        "id": "k2MjemHiEe3O"
      },
      "outputs": [],
      "source": [
        "chi.lease.delete_lease(lease_id)"
      ]
    }
  ],
  "metadata": {
    "kernelspec": {
      "display_name": "Python 3 (ipykernel)",
      "language": "python",
      "name": "python3"
    },
    "language_info": {
      "codemirror_mode": {
        "name": "ipython",
        "version": 3
      },
      "file_extension": ".py",
      "mimetype": "text/x-python",
      "name": "python",
      "nbconvert_exporter": "python",
      "pygments_lexer": "ipython3",
      "version": "3.10.9"
    },
    "colab": {
      "provenance": []
    }
  },
  "nbformat": 4,
  "nbformat_minor": 0
}