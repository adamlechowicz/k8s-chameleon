{
 "cells": [
  {
   "cell_type": "markdown",
   "metadata": {},
   "source": [
    "## Reserve and configure resources on FABRIC"
   ],
   "id": "bb919566-96a4-495f-a071-fb4fd5a8a749"
  },
  {
   "cell_type": "markdown",
   "metadata": {},
   "source": [
    "Before you run this experiment, you will:\n",
    "\n",
    "-   define the specific configuration of resources you need.\n",
    "-   “instantiate” an experiment with your reserved resources.\n",
    "-   wait for your resources to be configured.\n",
    "-   log in to resources to carry out the experiment.\n",
    "\n",
    "This exercise will guide you through those steps."
   ],
   "id": "63f7aaa2-27b1-4358-a970-dd70615d7df8"
  },
  {
   "cell_type": "markdown",
   "metadata": {},
   "source": [
    "### Configure environment"
   ],
   "id": "4657dea0-777e-4d5d-b302-7b824b9c967b"
  },
  {
   "cell_type": "code",
   "execution_count": null,
   "metadata": {},
   "outputs": [],
   "source": [
    "from fabrictestbed_extensions.fablib.fablib import FablibManager as fablib_manager\n",
    "fablib = fablib_manager() \n",
    "conf = fablib.show_config()"
   ],
   "id": "32177da5-727f-4962-bea0-03f373b42b90"
  },
  {
   "cell_type": "markdown",
   "metadata": {},
   "source": [
    "### Define configuration for this experiment (3 VMs)"
   ],
   "id": "34aaec26-fd23-47bc-a123-27fcb3af2a45"
  },
  {
   "cell_type": "markdown",
   "metadata": {},
   "source": [
    "For this specific experiment, we will need three virtual machines connected to a common network. Each of the virtual machines will be of the `m1.large` type, with 4 VCPUs, 8 GB memory, 40 GB disk space."
   ],
   "id": "63870b89-ddb3-47a5-bb56-c21d081381c2"
  },
  {
   "cell_type": "code",
   "execution_count": null,
   "metadata": {},
   "outputs": [],
   "source": [
    "import os\n",
    "slice_name = \"k8s_\" + os.getenv('NB_USER')\n",
    "\n",
    "node_conf = [\n",
    " {'name': \"node-0\", 'cores': 4, 'ram': 8, 'disk': 40, 'image': 'default_ubuntu_22', 'packages': [\"virtualenv\"]}, \n",
    " {'name': \"node-1\", 'cores': 4, 'ram': 8, 'disk': 40, 'image': 'default_ubuntu_22', 'packages': []}, \n",
    " {'name': \"node-2\", 'cores': 4, 'ram': 8, 'disk': 40, 'image': 'default_ubuntu_22', 'packages': []} \n",
    "]\n",
    "net_conf = [\n",
    " {\"name\": \"net0\", \"subnet\": \"192.168.1.0/24\", \"nodes\": [{\"name\": \"node-0\",   \"addr\": \"192.168.1.10\"}, {\"name\": \"node-1\", \"addr\": \"192.168.1.11\"}, {\"name\": \"node-2\", \"addr\": \"192.168.1.12\"}]},\n",
    "]\n",
    "route_conf = []\n",
    "\n",
    "exp_conf = {'cores': sum([ n['cores'] for n in node_conf]), 'nic': sum([len(n['nodes']) for n in net_conf]) }\n"
   ],
   "id": "79a4d5aa-da92-49c4-89d7-e16bd91ea609"
  },
  {
   "cell_type": "markdown",
   "metadata": {},
   "source": [
    "### Reserve resources\n",
    "\n",
    "Now, we are ready to reserve resources!"
   ],
   "id": "c551340e-8d9c-44a6-84d5-b360b510f853"
  },
  {
   "cell_type": "markdown",
   "metadata": {},
   "source": [
    "First, make sure you don’t already have a slice with this name:"
   ],
   "id": "bd7128ac-4e51-4939-843d-a5e80e1c2a24"
  },
  {
   "cell_type": "code",
   "execution_count": null,
   "metadata": {},
   "outputs": [],
   "source": [
    "try:\n",
    "    slice = fablib.get_slice(slice_name)\n",
    "    print(\"You already have a slice by this name!\")\n",
    "    print(\"If you previously reserved resources, skip to the 'log in to resources' section.\")\n",
    "except:\n",
    "    print(\"You don't have a slice named %s yet.\" % slice_name)\n",
    "    print(\"Continue to the next step to make one.\")\n",
    "    slice = fablib.new_slice(name=slice_name)"
   ],
   "id": "b3ab0d99-0ace-4bd4-aa15-71b9711f0e14"
  },
  {
   "cell_type": "markdown",
   "metadata": {},
   "source": [
    "We will select a random site that has sufficient resources for our experiment:"
   ],
   "id": "53ead26f-01c2-406f-91a9-99b29144762b"
  },
  {
   "cell_type": "code",
   "execution_count": null,
   "metadata": {},
   "outputs": [],
   "source": [
    "while True:\n",
    "    site_name = fablib.get_random_site()\n",
    "    if ( (fablib.resources.get_core_available(site_name) > 1.2*exp_conf['cores']) and\n",
    "        (fablib.resources.get_component_available(site_name, 'SharedNIC-ConnectX-6') > 1.2**exp_conf['nic']) ):\n",
    "        break\n",
    "\n",
    "fablib.show_site(site_name)"
   ],
   "id": "74346419-964b-42db-9131-6876cce18390"
  },
  {
   "cell_type": "markdown",
   "metadata": {},
   "source": [
    "Then we will add hosts and network segments:"
   ],
   "id": "1bcf965a-17a5-474a-8d60-912ab2623e88"
  },
  {
   "cell_type": "code",
   "execution_count": null,
   "metadata": {},
   "outputs": [],
   "source": [
    "# this cell sets up the nodes\n",
    "for n in node_conf:\n",
    "    slice.add_node(name=n['name'], site=site_name, \n",
    "                   cores=n['cores'], \n",
    "                   ram=n['ram'], \n",
    "                   disk=n['disk'], \n",
    "                   image=n['image'])"
   ],
   "id": "9a7678cc-0f6f-4a9d-98d0-93589f6d824e"
  },
  {
   "cell_type": "code",
   "execution_count": null,
   "metadata": {},
   "outputs": [],
   "source": [
    "# this cell sets up the network segments\n",
    "for n in net_conf:\n",
    "    ifaces = [slice.get_node(node[\"name\"]).add_component(model=\"NIC_Basic\", \n",
    "                                                 name=n[\"name\"]).get_interfaces()[0] for node in n['nodes'] ]\n",
    "    slice.add_l2network(name=n[\"name\"], type='L2Bridge', interfaces=ifaces)"
   ],
   "id": "af4c5261-42a3-442b-8c0d-aa49c71a5473"
  },
  {
   "cell_type": "markdown",
   "metadata": {},
   "source": [
    "The following cell submits our request to the FABRIC site. The output of this cell will update automatically as the status of our request changes.\n",
    "\n",
    "-   While it is being prepared, the “State” of the slice will appear as “Configuring”.\n",
    "-   When it is ready, the “State” of the slice will change to “StableOK”.\n",
    "\n",
    "You may prefer to walk away and come back in a few minutes (for simple slices) or a few tens of minutes (for more complicated slices with many resources)."
   ],
   "id": "f9b53a67-0bdf-401c-b892-4a9f856f92de"
  },
  {
   "cell_type": "code",
   "execution_count": null,
   "metadata": {},
   "outputs": [],
   "source": [
    "slice.submit()"
   ],
   "id": "0361d84d-f2c3-4f58-a8dd-60a9f383fdba"
  },
  {
   "cell_type": "code",
   "execution_count": null,
   "metadata": {},
   "outputs": [],
   "source": [
    "slice.get_state()\n",
    "slice.wait_ssh(progress=True)"
   ],
   "id": "5e12072b-e717-4b65-9eac-acc32c234702"
  },
  {
   "cell_type": "markdown",
   "metadata": {},
   "source": [
    "### Configure resources\n",
    "\n",
    "Next, we will configure the resources so they are ready to use."
   ],
   "id": "9525d196-4e7b-4bf2-8841-5bf905417099"
  },
  {
   "cell_type": "code",
   "execution_count": null,
   "metadata": {},
   "outputs": [],
   "source": [
    "slice = fablib.get_slice(name=slice_name)"
   ],
   "id": "65ac14f6-edea-4387-b6b9-0f5f0848c2d6"
  },
  {
   "cell_type": "code",
   "execution_count": null,
   "metadata": {},
   "outputs": [],
   "source": [
    "# install packages\n",
    "# this will take a while and will run in background while you do other steps\n",
    "for n in node_conf:\n",
    "    if len(n['packages']):\n",
    "        node = slice.get_node(n['name'])\n",
    "        pkg = \" \".join(n['packages'])\n",
    "        node.execute_thread(\"sudo apt update; sudo DEBIAN_FRONTEND=noninteractive apt -y install %s\" % pkg)"
   ],
   "id": "2cb9c302-7d06-40c1-b14b-4c7b297d4e50"
  },
  {
   "cell_type": "code",
   "execution_count": null,
   "metadata": {},
   "outputs": [],
   "source": [
    "# bring interfaces up and either assign an address (if there is one) or flush address\n",
    "from ipaddress import ip_address, IPv4Address, IPv4Network\n",
    "\n",
    "for net in net_conf:\n",
    "    for n in net['nodes']:\n",
    "        if_name = n['name'] + '-' + net['name'] + '-p1'\n",
    "        iface = slice.get_interface(if_name)\n",
    "        iface.ip_link_up()\n",
    "        if n['addr']:\n",
    "            iface.ip_addr_add(addr=n['addr'], subnet=IPv4Network(net['subnet']))\n",
    "        else:\n",
    "            iface.get_node().execute(\"sudo ip addr flush dev %s\"  % iface.get_device_name())"
   ],
   "id": "ff7c93cd-8234-442e-ae5f-39f093f508ba"
  },
  {
   "cell_type": "code",
   "execution_count": null,
   "metadata": {},
   "outputs": [],
   "source": [
    "# prepare a \"hosts\" file that has names and addresses of every node\n",
    "hosts_txt = [ \"%s\\t%s\" % ( n['addr'], n['name'] ) for net in net_conf  for n in net['nodes'] if type(n) is dict and n['addr']]\n",
    "for n in slice.get_nodes():\n",
    "    for h in hosts_txt:\n",
    "        n.execute(\"echo %s | sudo tee -a /etc/hosts\" % h)"
   ],
   "id": "b73bd665-a6d8-4b14-b5be-49d7ce56949e"
  },
  {
   "cell_type": "code",
   "execution_count": null,
   "metadata": {},
   "outputs": [],
   "source": [
    "# enable IPv4 forwarding on all nodes\n",
    "for n in slice.get_nodes():\n",
    "    n.execute(\"sudo sysctl -w net.ipv4.ip_forward=1\")"
   ],
   "id": "e18d448f-f05f-4c38-a20d-bcd4cf0cb33b"
  },
  {
   "cell_type": "code",
   "execution_count": null,
   "metadata": {},
   "outputs": [],
   "source": [
    "# set up static routes\n",
    "for rt in route_conf:\n",
    "    for n in rt['nodes']:\n",
    "        slice.get_node(name=n).ip_route_add(subnet=IPv4Network(rt['addr']), gateway=rt['gw'])"
   ],
   "id": "dcffabdd-db4b-4d0c-a2e9-3cd4b1bd8fdd"
  },
  {
   "cell_type": "markdown",
   "metadata": {},
   "source": [
    "### Draw the network topology"
   ],
   "id": "8ae35068-7573-4090-86cd-41137cf88ae7"
  },
  {
   "cell_type": "markdown",
   "metadata": {},
   "source": [
    "The following cell will draw the network topology, for your reference. The interface name and addresses of each experiment interface will be shown on the drawing."
   ],
   "id": "830c4afe-6877-401d-98bc-2d08cb3c9aaf"
  },
  {
   "cell_type": "code",
   "execution_count": null,
   "metadata": {},
   "outputs": [],
   "source": [
    "l2_nets = [(n.get_name(), {'color': 'lavender'}) for n in slice.get_l2networks() ]\n",
    "l3_nets = [(n.get_name(), {'color': 'pink'}) for n in slice.get_l3networks() ]\n",
    "hosts   =   [(n.get_name(), {'color': 'lightblue'}) for n in slice.get_nodes()]\n",
    "nodes = l2_nets + l3_nets + hosts\n",
    "ifaces = [iface.toDict() for iface in slice.get_interfaces()]\n",
    "edges = [(iface['network'], iface['node'], \n",
    "          {'label': iface['physical_dev'] + '\\n' + iface['ip_addr'] + '\\n' + iface['mac']}) for iface in ifaces]"
   ],
   "id": "f18e8b2d-ac4f-4fa7-ac46-9dc2e25c59f5"
  },
  {
   "cell_type": "code",
   "execution_count": null,
   "metadata": {},
   "outputs": [],
   "source": [
    "import networkx as nx\n",
    "import matplotlib.pyplot as plt\n",
    "plt.figure(figsize=(len(nodes),len(nodes)))\n",
    "G = nx.Graph()\n",
    "G.add_nodes_from(nodes)\n",
    "G.add_edges_from(edges)\n",
    "pos = nx.spring_layout(G)\n",
    "nx.draw(G, pos, node_shape='s',  \n",
    "        node_color=[n[1]['color'] for n in nodes], \n",
    "        node_size=[len(n[0])*400 for n in nodes],  \n",
    "        with_labels=True);\n",
    "nx.draw_networkx_edge_labels(G,pos,\n",
    "                             edge_labels=nx.get_edge_attributes(G,'label'),\n",
    "                             font_color='gray',  font_size=8, rotate=False);"
   ],
   "id": "96e1fde1-c046-4172-9cbb-4716f8cede0c"
  },
  {
   "cell_type": "markdown",
   "metadata": {},
   "source": [
    "### Use Kubespray to prepare a Kubernetes cluster"
   ],
   "id": "5faac90a-70d6-49e7-9553-44f9cbc2090c"
  },
  {
   "cell_type": "markdown",
   "metadata": {},
   "source": [
    "Now that are resources are “up”, we will use Kubespray, a software utility for preparing and configuring a Kubernetes cluster, to set them up as a cluster."
   ],
   "id": "16825fbb-d831-4b41-96c8-f8c1c43d1609"
  },
  {
   "cell_type": "code",
   "execution_count": null,
   "metadata": {},
   "outputs": [],
   "source": [
    "# install Python libraries required for Kubespray\n",
    "remote = slice.get_node(name=\"node-0\")\n",
    "remote.execute(\"virtualenv -p python3 myenv\")\n",
    "remote.execute(\"git clone --branch release-2.22 https://github.com/kubernetes-sigs/kubespray.git\")\n",
    "_ = remote.execute(\"source myenv/bin/activate; cd kubespray; pip3 install -r requirements.txt\")"
   ],
   "id": "352f240f-bc91-4018-9876-6388241439a5"
  },
  {
   "cell_type": "code",
   "execution_count": null,
   "metadata": {},
   "outputs": [],
   "source": [
    "# copy config files to correct locations\n",
    "remote.execute(\"mv kubespray/inventory/sample kubespray/inventory/mycluster\")\n",
    "remote.execute(\"git clone https://github.com/teaching-on-testbeds/k8s-ml.git\")\n",
    "remote.execute(\"cp k8s-ml/config/k8s-cluster.yml kubespray/inventory/mycluster/group_vars/k8s_cluster/k8s-cluster.yml\")\n",
    "remote.execute(\"cp k8s-ml/config/inventory.py    kubespray/contrib/inventory_builder/inventory.py\")\n",
    "remote.execute(\"cp k8s-ml/config/addons.yml      kubespray/inventory/mycluster/group_vars/k8s_cluster/addons.yml\")"
   ],
   "id": "7af2664a-e183-47ff-8d11-e34ab488c5ea"
  },
  {
   "cell_type": "code",
   "execution_count": null,
   "metadata": {},
   "outputs": [],
   "source": [
    "# build inventory for this specific topology\n",
    "physical_ips = [n['addr'] for n in net_conf[0]['nodes']]\n",
    "physical_ips_str = \" \".join(physical_ips)\n",
    "_ = remote.execute(f\"source myenv/bin/activate; declare -a IPS=({physical_ips_str});\"+\"cd kubespray; CONFIG_FILE=inventory/mycluster/hosts.yaml python3 contrib/inventory_builder/inventory.py ${IPS[@]}\")\n"
   ],
   "id": "8f9b0783-6724-4675-926f-70a7ffeada35"
  },
  {
   "cell_type": "code",
   "execution_count": null,
   "metadata": {},
   "outputs": [],
   "source": [
    "# make sure \"controller\" node can SSH into the others\n",
    "remote.execute('ssh-keygen -t rsa -b 4096 -f ~/.ssh/id_rsa -q -N \"\"')\n",
    "public_key, stderr = remote.execute('cat ~/.ssh/id_rsa.pub', quiet=True)\n",
    "\n",
    "for n in node_conf:\n",
    "    node = slice.get_node(n['name'])\n",
    "    print(\"Now copying key to node \" + n['name'])\n",
    "    node.execute(f'echo {public_key.strip()} >> ~/.ssh/authorized_keys')"
   ],
   "id": "617985b0-2e44-4349-9e8c-13cd579366c2"
  },
  {
   "cell_type": "code",
   "execution_count": null,
   "metadata": {},
   "outputs": [],
   "source": [
    "# build the cluster\n",
    "_ = remote.execute(\"source myenv/bin/activate; cd kubespray; ansible-playbook -i inventory/mycluster/hosts.yaml  --become --become-user=root cluster.yml\")"
   ],
   "id": "33b044ee-ade1-46f0-b46b-9eeda77b5664"
  },
  {
   "cell_type": "code",
   "execution_count": null,
   "metadata": {},
   "outputs": [],
   "source": [
    "# allow kubectl access for non-root user\n",
    "remote.execute(\"sudo cp -R /root/.kube /home/ubuntu/.kube; sudo chown -R ubuntu /home/ubuntu/.kube; sudo chgrp -R ubuntu /home/ubuntu/.kube\")"
   ],
   "id": "f7142a23-2f9c-4c36-88a9-dc83f031faaa"
  },
  {
   "cell_type": "code",
   "execution_count": null,
   "metadata": {},
   "outputs": [],
   "source": [
    "# check installation\n",
    "_ = remote.execute(\"kubectl get nodes\")"
   ],
   "id": "be0595d2-e6be-439f-8883-430f4657a772"
  },
  {
   "cell_type": "markdown",
   "metadata": {},
   "source": [
    "### Set up Docker\n",
    "\n",
    "Now that we have a Kubernetes cluster, we have a framework in place for container orchestration. But we still need to set up Docker, for building, sharing, and running those containers."
   ],
   "id": "20a80749-7174-45d6-a9be-6881e26a13c2"
  },
  {
   "cell_type": "code",
   "execution_count": null,
   "metadata": {},
   "outputs": [],
   "source": [
    "# add the user to the \"docker\" group on all hosts\n",
    "for n in node_conf:\n",
    "    node = slice.get_node(n['name'])\n",
    "    node.execute(\"sudo groupadd -f docker; sudo usermod -aG docker $USER\")"
   ],
   "id": "c3fba6b9-8d3a-4b3d-8f77-3e3f862b8267"
  },
  {
   "cell_type": "code",
   "execution_count": null,
   "metadata": {},
   "outputs": [],
   "source": [
    "# set up a private distribution registry on the \"controller\" node for distributing containers\n",
    "# note: need a brand-new SSH session in order to \"get\" new group membership\n",
    "remote.execute(\"docker run -d -p 5000:5000 --restart always --name registry registry:2\")"
   ],
   "id": "1fd7646c-7df7-48f0-9786-6e8fce7cf502"
  },
  {
   "cell_type": "code",
   "execution_count": null,
   "metadata": {},
   "outputs": [],
   "source": [
    "# set up docker configuration on all the hosts\n",
    "for n in node_conf:\n",
    "    node = slice.get_node(n['name'])\n",
    "    node.execute(\"sudo wget https://raw.githubusercontent.com/teaching-on-testbeds/k8s-ml/main/config/daemon.json -O /etc/docker/daemon.json\")\n",
    "    node.execute(\"sudo service docker restart\")\n"
   ],
   "id": "a3cc2de2-f8a7-41d4-8dda-61f580ec996e"
  },
  {
   "cell_type": "code",
   "execution_count": null,
   "metadata": {},
   "outputs": [],
   "source": [
    "# check configuration\n",
    "remote.execute(\"docker run hello-world\")"
   ],
   "id": "612ddb12-f789-4679-a5da-9d48dc4982b7"
  },
  {
   "cell_type": "markdown",
   "metadata": {},
   "source": [
    "### Get SSH login details"
   ],
   "id": "a09170c0-8dd0-4ad9-9949-e0fd780207bc"
  },
  {
   "cell_type": "markdown",
   "metadata": {},
   "source": [
    "At this point, we should be able to log in to our “controller” node over SSH! Run the following cell, and observe the output - you will see an SSH command this node."
   ],
   "id": "f3b86c48-7803-4e79-8896-89db1c9e5fbe"
  },
  {
   "cell_type": "code",
   "execution_count": null,
   "metadata": {},
   "outputs": [],
   "source": [
    "print(remote.get_ssh_command())"
   ],
   "id": "53169023-c068-4bee-bd9c-7ef322033db0"
  },
  {
   "cell_type": "markdown",
   "metadata": {},
   "source": [
    "Now, you can open an SSH session as follows:\n",
    "\n",
    "-   In Jupyter, from the menu bar, use File \\> New \\> Terminal to open a new terminal.\n",
    "-   Copy the SSH command from the output above, and paste it into the terminal."
   ],
   "id": "7daaae84-c142-4b32-adb9-eb4e4dc53fc2"
  },
  {
   "cell_type": "markdown",
   "metadata": {},
   "source": [
    "You will also need to know how to transfer a file to the remote host from your local terminal. Later in this exercise, you will want to transfer a file named `model.keras` to the directory `~/k8s-ml/app/` on this remote host.\n",
    "\n",
    "The easiest way is to use a free file upload service, then download the file on the remote host. For example:\n",
    "\n",
    "-   upload your `model.keras` file to https://www.file.io/\n",
    "-   copy the download link that is provided, and paste it in the following cell\n",
    "-   un-comment the second line in the cell\n",
    "-   run the cell"
   ],
   "id": "f0c576b3-c0bc-414e-a586-e7380fe4391e"
  },
  {
   "cell_type": "code",
   "execution_count": null,
   "metadata": {},
   "outputs": [],
   "source": [
    "download_url = \"https://file.io/XXXXXXXXXXXX\" # replace this URL\n",
    "# _ = remote.execute(\"wget \" + download_url + \" -O ~/k8s-ml/app/model.keras\")"
   ],
   "id": "f14df479-48f9-4abd-95a4-cbc052843f8b"
  }
 ],
 "nbformat": 4,
 "nbformat_minor": 5,
 "metadata": {}
}
